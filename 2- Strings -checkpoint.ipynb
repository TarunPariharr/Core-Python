{
 "cells": [
  {
   "cell_type": "markdown",
   "id": "f60c2fde",
   "metadata": {},
   "source": [
    "# STRINGS:"
   ]
  },
  {
   "cell_type": "code",
   "execution_count": 1,
   "id": "67f14aaa",
   "metadata": {},
   "outputs": [
    {
     "data": {
      "text/plain": [
       "'Hi my name is rabel'"
      ]
     },
     "execution_count": 1,
     "metadata": {},
     "output_type": "execute_result"
    }
   ],
   "source": [
    "\"Hi my name is rabel\""
   ]
  },
  {
   "cell_type": "code",
   "execution_count": 2,
   "id": "9034eb9d",
   "metadata": {},
   "outputs": [
    {
     "data": {
      "text/plain": [
       "'Hi,my name is rabel'"
      ]
     },
     "execution_count": 2,
     "metadata": {},
     "output_type": "execute_result"
    }
   ],
   "source": [
    "'Hi,my name is rabel'"
   ]
  },
  {
   "cell_type": "code",
   "execution_count": 3,
   "id": "f37ba6f2",
   "metadata": {},
   "outputs": [
    {
     "data": {
      "text/plain": [
       "\"What's your name ?\""
      ]
     },
     "execution_count": 3,
     "metadata": {},
     "output_type": "execute_result"
    }
   ],
   "source": [
    "'What\\'s your name ?' # --> To escape the ' we used \\ ."
   ]
  },
  {
   "cell_type": "code",
   "execution_count": 4,
   "id": "aa1460be",
   "metadata": {},
   "outputs": [
    {
     "data": {
      "text/plain": [
       "\"What's your name ?\""
      ]
     },
     "execution_count": 4,
     "metadata": {},
     "output_type": "execute_result"
    }
   ],
   "source": [
    "\"What's your name ?\""
   ]
  },
  {
   "cell_type": "markdown",
   "id": "54a134bf",
   "metadata": {},
   "source": [
    "# print ()"
   ]
  },
  {
   "cell_type": "code",
   "execution_count": 6,
   "id": "d9c13837",
   "metadata": {},
   "outputs": [
    {
     "data": {
      "text/plain": [
       "'\"It\\'s\", not true.'"
      ]
     },
     "execution_count": 6,
     "metadata": {},
     "output_type": "execute_result"
    }
   ],
   "source": [
    "'\"It\\'s\", not true.' # To prevent output , in between (' ') let's use print."
   ]
  },
  {
   "cell_type": "code",
   "execution_count": 22,
   "id": "80838e05",
   "metadata": {},
   "outputs": [
    {
     "name": "stdout",
     "output_type": "stream",
     "text": [
      "\"It's\"not true.\n"
     ]
    }
   ],
   "source": [
    "print('\"It\\'s\"not true.')"
   ]
  },
  {
   "cell_type": "code",
   "execution_count": 10,
   "id": "b9ff2207",
   "metadata": {},
   "outputs": [
    {
     "data": {
      "text/plain": [
       "\" hi, its's first line \\n it's second line.\""
      ]
     },
     "execution_count": 10,
     "metadata": {},
     "output_type": "execute_result"
    }
   ],
   "source": [
    "s=\" hi, its's first line \\n it's second line.\"\n",
    "s"
   ]
  },
  {
   "cell_type": "code",
   "execution_count": 11,
   "id": "53d2310f",
   "metadata": {},
   "outputs": [
    {
     "name": "stdout",
     "output_type": "stream",
     "text": [
      " hi, its's first line \n",
      " it's second line.\n"
     ]
    }
   ],
   "source": [
    "print(s)"
   ]
  },
  {
   "cell_type": "code",
   "execution_count": 27,
   "id": "73c0c5de",
   "metadata": {},
   "outputs": [
    {
     "name": "stdout",
     "output_type": "stream",
     "text": [
      "C:\n",
      "ame\n"
     ]
    }
   ],
   "source": [
    "print(\"C:\\name\") # --> to avoid this problem use r before the format (\" \")"
   ]
  },
  {
   "cell_type": "code",
   "execution_count": 29,
   "id": "ee6ae9b2",
   "metadata": {},
   "outputs": [
    {
     "name": "stdout",
     "output_type": "stream",
     "text": [
      "C:\\name\n"
     ]
    }
   ],
   "source": [
    "print(r\"C:\\name\")"
   ]
  },
  {
   "cell_type": "code",
   "execution_count": 42,
   "id": "3f3df650",
   "metadata": {},
   "outputs": [
    {
     "name": "stdout",
     "output_type": "stream",
     "text": [
      "HI, there.\n",
      "Your options are:\n",
      "                    1.Red\n",
      "                    2.White\n",
      "                    3.Black\n",
      "\n"
     ]
    }
   ],
   "source": [
    "print(\"\"\"\\\n",
    "HI, there.\n",
    "Your options are:\n",
    "                    1.Red\n",
    "                    2.White\n",
    "                    3.Black\n",
    "\"\"\")  # '\\' used to prevent new line in output:"
   ]
  },
  {
   "cell_type": "code",
   "execution_count": 38,
   "id": "381cb29d",
   "metadata": {},
   "outputs": [
    {
     "data": {
      "text/plain": [
       "'tararararumpum'"
      ]
     },
     "execution_count": 38,
     "metadata": {},
     "output_type": "execute_result"
    }
   ],
   "source": [
    "\"ta\" + 3*\"ra\" + \"rumpum\""
   ]
  },
  {
   "cell_type": "code",
   "execution_count": 39,
   "id": "8f2da582",
   "metadata": {},
   "outputs": [
    {
     "data": {
      "text/plain": [
       "'python'"
      ]
     },
     "execution_count": 39,
     "metadata": {},
     "output_type": "execute_result"
    }
   ],
   "source": [
    "\"py\" \"thon\""
   ]
  },
  {
   "cell_type": "code",
   "execution_count": 40,
   "id": "a6cf01c3",
   "metadata": {},
   "outputs": [
    {
     "data": {
      "text/plain": [
       "'python'"
      ]
     },
     "execution_count": 40,
     "metadata": {},
     "output_type": "execute_result"
    }
   ],
   "source": [
    "s= \"py\"\n",
    "s+\"thon\""
   ]
  },
  {
   "cell_type": "code",
   "execution_count": 2,
   "id": "13ac3d62",
   "metadata": {},
   "outputs": [
    {
     "data": {
      "text/plain": [
       "'Hello world,it will continue with the fist line'"
      ]
     },
     "execution_count": 2,
     "metadata": {},
     "output_type": "execute_result"
    }
   ],
   "source": [
    "text=(\"Hello world,\"\n",
    "      \"it will continue with the fist line\")\n",
    "text\n"
   ]
  },
  {
   "cell_type": "markdown",
   "id": "b9640b09",
   "metadata": {},
   "source": [
    "# Indexing(Slicing)"
   ]
  },
  {
   "cell_type": "code",
   "execution_count": 40,
   "id": "55df10a6",
   "metadata": {},
   "outputs": [
    {
     "data": {
      "text/plain": [
       "'python'"
      ]
     },
     "execution_count": 40,
     "metadata": {},
     "output_type": "execute_result"
    }
   ],
   "source": [
    "word = \"python\"\n",
    "word[0:]  #starts from 0 to the end of the string:"
   ]
  },
  {
   "cell_type": "code",
   "execution_count": 47,
   "id": "780b16ea",
   "metadata": {},
   "outputs": [
    {
     "data": {
      "text/plain": [
       "'python'"
      ]
     },
     "execution_count": 47,
     "metadata": {},
     "output_type": "execute_result"
    }
   ],
   "source": [
    "word=\"python\"\n",
    "word[:6]  #starts from the begining till 6 :  "
   ]
  },
  {
   "cell_type": "code",
   "execution_count": 1,
   "id": "9a09889a",
   "metadata": {},
   "outputs": [
    {
     "data": {
      "text/plain": [
       "'pto'"
      ]
     },
     "execution_count": 1,
     "metadata": {},
     "output_type": "execute_result"
    }
   ],
   "source": [
    "word=\"python\"\n",
    "word[0:6:2] "
   ]
  },
  {
   "cell_type": "code",
   "execution_count": 5,
   "id": "ba91284f",
   "metadata": {},
   "outputs": [
    {
     "data": {
      "text/plain": [
       "'nohtyp'"
      ]
     },
     "execution_count": 5,
     "metadata": {},
     "output_type": "execute_result"
    }
   ],
   "source": [
    "word=\"python\"\n",
    "word[::-1]   # one of the method to revrerse the string."
   ]
  },
  {
   "cell_type": "code",
   "execution_count": null,
   "id": "a6bf1ecb",
   "metadata": {},
   "outputs": [],
   "source": []
  },
  {
   "cell_type": "code",
   "execution_count": null,
   "id": "95d01e84",
   "metadata": {},
   "outputs": [],
   "source": []
  },
  {
   "cell_type": "code",
   "execution_count": null,
   "id": "1219984c",
   "metadata": {},
   "outputs": [],
   "source": []
  },
  {
   "cell_type": "code",
   "execution_count": null,
   "id": "cbf33ffe",
   "metadata": {},
   "outputs": [],
   "source": []
  },
  {
   "cell_type": "code",
   "execution_count": null,
   "id": "fb2783dd",
   "metadata": {},
   "outputs": [],
   "source": []
  },
  {
   "cell_type": "code",
   "execution_count": null,
   "id": "f33ea68b",
   "metadata": {},
   "outputs": [],
   "source": []
  },
  {
   "cell_type": "code",
   "execution_count": null,
   "id": "d9dee36c",
   "metadata": {},
   "outputs": [],
   "source": []
  },
  {
   "cell_type": "markdown",
   "id": "13582ec7",
   "metadata": {},
   "source": [
    "# String Functions:"
   ]
  },
  {
   "cell_type": "code",
   "execution_count": 6,
   "id": "d14ae978",
   "metadata": {},
   "outputs": [
    {
     "name": "stdout",
     "output_type": "stream",
     "text": [
      "['__add__', '__class__', '__contains__', '__delattr__', '__dir__', '__doc__', '__eq__', '__format__', '__ge__', '__getattribute__', '__getitem__', '__getnewargs__', '__gt__', '__hash__', '__init__', '__init_subclass__', '__iter__', '__le__', '__len__', '__lt__', '__mod__', '__mul__', '__ne__', '__new__', '__reduce__', '__reduce_ex__', '__repr__', '__rmod__', '__rmul__', '__setattr__', '__sizeof__', '__str__', '__subclasshook__', 'capitalize', 'casefold', 'center', 'count', 'encode', 'endswith', 'expandtabs', 'find', 'format', 'format_map', 'index', 'isalnum', 'isalpha', 'isascii', 'isdecimal', 'isdigit', 'isidentifier', 'islower', 'isnumeric', 'isprintable', 'isspace', 'istitle', 'isupper', 'join', 'ljust', 'lower', 'lstrip', 'maketrans', 'partition', 'removeprefix', 'removesuffix', 'replace', 'rfind', 'rindex', 'rjust', 'rpartition', 'rsplit', 'rstrip', 'split', 'splitlines', 'startswith', 'strip', 'swapcase', 'title', 'translate', 'upper', 'zfill']\n"
     ]
    }
   ],
   "source": [
    "print(dir(str))"
   ]
  },
  {
   "cell_type": "code",
   "execution_count": 21,
   "id": "173606af",
   "metadata": {},
   "outputs": [],
   "source": [
    "s.capitalize?"
   ]
  }
 ],
 "metadata": {
  "kernelspec": {
   "display_name": "Python 3 (ipykernel)",
   "language": "python",
   "name": "python3"
  },
  "language_info": {
   "codemirror_mode": {
    "name": "ipython",
    "version": 3
   },
   "file_extension": ".py",
   "mimetype": "text/x-python",
   "name": "python",
   "nbconvert_exporter": "python",
   "pygments_lexer": "ipython3",
   "version": "3.10.4"
  }
 },
 "nbformat": 4,
 "nbformat_minor": 5
}
