{
 "cells": [
  {
   "cell_type": "markdown",
   "id": "375dcdf6",
   "metadata": {},
   "source": [
    "# List: "
   ]
  },
  {
   "cell_type": "code",
   "execution_count": 20,
   "id": "bb4d653a",
   "metadata": {},
   "outputs": [
    {
     "name": "stdout",
     "output_type": "stream",
     "text": [
      "['tarun', 22, 2000]\n"
     ]
    }
   ],
   "source": [
    "a=[\"tarun\",22,2000]\n",
    "print(a)\n",
    "print(type(a))"
   ]
  },
  {
   "cell_type": "code",
   "execution_count": 15,
   "id": "1c7c5ea2",
   "metadata": {},
   "outputs": [
    {
     "name": "stdout",
     "output_type": "stream",
     "text": [
      "['__add__', '__class__', '__class_getitem__', '__contains__', '__delattr__', '__delitem__', '__dir__', '__doc__', '__eq__', '__format__', '__ge__', '__getattribute__', '__getitem__', '__gt__', '__hash__', '__iadd__', '__imul__', '__init__', '__init_subclass__', '__iter__', '__le__', '__len__', '__lt__', '__mul__', '__ne__', '__new__', '__reduce__', '__reduce_ex__', '__repr__', '__reversed__', '__rmul__', '__setattr__', '__setitem__', '__sizeof__', '__str__', '__subclasshook__', 'append', 'clear', 'copy', 'count', 'extend', 'index', 'insert', 'pop', 'remove', 'reverse', 'sort']\n"
     ]
    }
   ],
   "source": [
    "print(dir(list))"
   ]
  },
  {
   "cell_type": "code",
   "execution_count": 2,
   "id": "2993fc25",
   "metadata": {},
   "outputs": [
    {
     "data": {
      "text/plain": [
       "['tarun', 'trp']"
      ]
     },
     "execution_count": 2,
     "metadata": {},
     "output_type": "execute_result"
    }
   ],
   "source": [
    "a=[\"tarun\"]\n",
    "a.append?\n",
    "a.append(\"trp\")  # add the item at the end of the list:\n",
    "a"
   ]
  },
  {
   "cell_type": "code",
   "execution_count": 11,
   "id": "d9d22a46",
   "metadata": {},
   "outputs": [
    {
     "data": {
      "text/plain": [
       "[]"
      ]
     },
     "execution_count": 11,
     "metadata": {},
     "output_type": "execute_result"
    }
   ],
   "source": [
    "a.clear?\n",
    "a.clear()   # it will clear(empty) the whole list:\n",
    "a"
   ]
  },
  {
   "cell_type": "code",
   "execution_count": 15,
   "id": "4b5a4334",
   "metadata": {},
   "outputs": [
    {
     "data": {
      "text/plain": [
       "['tarun', 'trp']"
      ]
     },
     "execution_count": 15,
     "metadata": {},
     "output_type": "execute_result"
    }
   ],
   "source": [
    "a.copy?\n",
    "b=a.copy()  # it will creates the same copy of list for another object:\n",
    "b"
   ]
  },
  {
   "cell_type": "code",
   "execution_count": 19,
   "id": "ded51179",
   "metadata": {},
   "outputs": [
    {
     "data": {
      "text/plain": [
       "['tarun', 'trp', 'tarun', 'trp', 'tarun', 'trp', 'tarun', 'trp']"
      ]
     },
     "execution_count": 19,
     "metadata": {},
     "output_type": "execute_result"
    }
   ],
   "source": [
    "a.extend?\n",
    "a.extend(b)   # in extend you can pass the sets, tuples, lists etc as iterables.\n",
    "a"
   ]
  },
  {
   "cell_type": "code",
   "execution_count": 3,
   "id": "24be310f",
   "metadata": {},
   "outputs": [
    {
     "data": {
      "text/plain": [
       "1"
      ]
     },
     "execution_count": 3,
     "metadata": {},
     "output_type": "execute_result"
    }
   ],
   "source": [
    "a.index?\n",
    "a\n",
    "c=a.index('trp')  # it will return the index of the the given element:\n",
    "c"
   ]
  },
  {
   "cell_type": "code",
   "execution_count": 22,
   "id": "61d8a522",
   "metadata": {},
   "outputs": [
    {
     "name": "stdout",
     "output_type": "stream",
     "text": [
      "['BMW', 'FORD', 'AUDI']\n"
     ]
    },
    {
     "data": {
      "text/plain": [
       "['BMW', 'FORD', 'TESLA', 'AUDI']"
      ]
     },
     "execution_count": 22,
     "metadata": {},
     "output_type": "execute_result"
    }
   ],
   "source": [
    "cars=[\"BMW\",\"FORD\",\"AUDI\"]\n",
    "print(cars)\n",
    "cars.insert?\n",
    "cars.insert(2,\"TESLA\")\n",
    "cars"
   ]
  },
  {
   "cell_type": "code",
   "execution_count": 24,
   "id": "2a1a0072",
   "metadata": {},
   "outputs": [
    {
     "name": "stdout",
     "output_type": "stream",
     "text": [
      "['BMW', 'FORD', 'TESLA', 'AUDI']\n"
     ]
    },
    {
     "data": {
      "text/plain": [
       "['BMW', 'TESLA', 'AUDI']"
      ]
     },
     "execution_count": 24,
     "metadata": {},
     "output_type": "execute_result"
    }
   ],
   "source": [
    "cars.pop?\n",
    "print(cars)\n",
    "cars.pop(1)\n",
    "cars"
   ]
  },
  {
   "cell_type": "code",
   "execution_count": 10,
   "id": "b01e0cf4",
   "metadata": {},
   "outputs": [
    {
     "name": "stdout",
     "output_type": "stream",
     "text": [
      "['BMW', 'TESLA', 'AUDI']\n"
     ]
    },
    {
     "data": {
      "text/plain": [
       "['BMW', 'TESLA']"
      ]
     },
     "execution_count": 10,
     "metadata": {},
     "output_type": "execute_result"
    }
   ],
   "source": [
    "cars.remove?\n",
    "print(cars)\n",
    "cars.remove(\"AUDI\")\n",
    "cars"
   ]
  },
  {
   "cell_type": "code",
   "execution_count": 2,
   "id": "f78e4381",
   "metadata": {},
   "outputs": [
    {
     "name": "stdout",
     "output_type": "stream",
     "text": [
      "['apple', 'mango', 'banana']\n"
     ]
    },
    {
     "data": {
      "text/plain": [
       "['banana', 'mango', 'apple']"
      ]
     },
     "execution_count": 2,
     "metadata": {},
     "output_type": "execute_result"
    }
   ],
   "source": [
    "f = [\"apple\",\"mango\",\"banana\"]\n",
    "f.reverse?\n",
    "print(f)\n",
    "f.reverse()\n",
    "f"
   ]
  },
  {
   "cell_type": "code",
   "execution_count": 5,
   "id": "b97afc79",
   "metadata": {},
   "outputs": [
    {
     "name": "stdout",
     "output_type": "stream",
     "text": [
      "['mango', 'banana', 'apple']\n",
      "Normal Sorting ['apple', 'banana', 'mango']\n",
      "Reverse sorting ['mango', 'banana', 'apple']\n"
     ]
    }
   ],
   "source": [
    "f.sort?\n",
    "print(f)\n",
    "f.sort()    # sorting can be done within the same datatype elements:\n",
    "print(\"Normal Sorting\",f)\n",
    "f.sort(reverse=True)\n",
    "print(\"Reverse sorting\",f)"
   ]
  },
  {
   "cell_type": "markdown",
   "id": "dac69561",
   "metadata": {},
   "source": [
    "# TUPLE:"
   ]
  },
  {
   "cell_type": "code",
   "execution_count": 10,
   "id": "754f5423",
   "metadata": {},
   "outputs": [
    {
     "name": "stdout",
     "output_type": "stream",
     "text": [
      "('trp', 22, 2000)\n",
      "<class 'tuple'>\n"
     ]
    }
   ],
   "source": [
    "a = (\"trp\",22,2000)\n",
    "print(a)\n",
    "print(type(a))\n"
   ]
  },
  {
   "cell_type": "code",
   "execution_count": 12,
   "id": "9dc8a8a8",
   "metadata": {},
   "outputs": [
    {
     "name": "stdout",
     "output_type": "stream",
     "text": [
      "['__add__', '__class__', '__class_getitem__', '__contains__', '__delattr__', '__dir__', '__doc__', '__eq__', '__format__', '__ge__', '__getattribute__', '__getitem__', '__getnewargs__', '__gt__', '__hash__', '__init__', '__init_subclass__', '__iter__', '__le__', '__len__', '__lt__', '__mul__', '__ne__', '__new__', '__reduce__', '__reduce_ex__', '__repr__', '__rmul__', '__setattr__', '__sizeof__', '__str__', '__subclasshook__', 'count', 'index']\n"
     ]
    }
   ],
   "source": [
    "print(dir(a))"
   ]
  },
  {
   "cell_type": "code",
   "execution_count": 15,
   "id": "af3d4ed0",
   "metadata": {},
   "outputs": [
    {
     "data": {
      "text/plain": [
       "1"
      ]
     },
     "execution_count": 15,
     "metadata": {},
     "output_type": "execute_result"
    }
   ],
   "source": [
    "a.count?\n",
    "a.count(22)"
   ]
  },
  {
   "cell_type": "code",
   "execution_count": 18,
   "id": "f00c5a4d",
   "metadata": {},
   "outputs": [
    {
     "data": {
      "text/plain": [
       "2"
      ]
     },
     "execution_count": 18,
     "metadata": {},
     "output_type": "execute_result"
    }
   ],
   "source": [
    "a.index?\n",
    "a.index(2000)"
   ]
  }
 ],
 "metadata": {
  "kernelspec": {
   "display_name": "Python 3 (ipykernel)",
   "language": "python",
   "name": "python3"
  },
  "language_info": {
   "codemirror_mode": {
    "name": "ipython",
    "version": 3
   },
   "file_extension": ".py",
   "mimetype": "text/x-python",
   "name": "python",
   "nbconvert_exporter": "python",
   "pygments_lexer": "ipython3",
   "version": "3.10.4"
  }
 },
 "nbformat": 4,
 "nbformat_minor": 5
}
