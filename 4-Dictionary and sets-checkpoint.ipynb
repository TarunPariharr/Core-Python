{
 "cells": [
  {
   "cell_type": "markdown",
   "id": "578a594b",
   "metadata": {},
   "source": [
    "## Dictionary \n"
   ]
  },
  {
   "cell_type": "code",
   "execution_count": 142,
   "id": "536d028c",
   "metadata": {},
   "outputs": [
    {
     "data": {
      "text/plain": [
       "{'Tarun': 'Parihar', 'D.O.B': '22-12-2000', 'City': 'Ahmedabad'}"
      ]
     },
     "execution_count": 142,
     "metadata": {},
     "output_type": "execute_result"
    }
   ],
   "source": [
    "t={\"Tarun\":\"Parihar\",\"D.O.B\":\"22-12-2000\",\"City\":\"Ahmedabad\"}\n",
    "t"
   ]
  },
  {
   "cell_type": "code",
   "execution_count": 143,
   "id": "e5c4b80b",
   "metadata": {},
   "outputs": [
    {
     "data": {
      "text/plain": [
       "dict"
      ]
     },
     "execution_count": 143,
     "metadata": {},
     "output_type": "execute_result"
    }
   ],
   "source": [
    "type(t)"
   ]
  },
  {
   "cell_type": "code",
   "execution_count": 144,
   "id": "fa329bf7",
   "metadata": {},
   "outputs": [
    {
     "name": "stdout",
     "output_type": "stream",
     "text": [
      "['__class__', '__class_getitem__', '__contains__', '__delattr__', '__delitem__', '__dir__', '__doc__', '__eq__', '__format__', '__ge__', '__getattribute__', '__getitem__', '__gt__', '__hash__', '__init__', '__init_subclass__', '__ior__', '__iter__', '__le__', '__len__', '__lt__', '__ne__', '__new__', '__or__', '__reduce__', '__reduce_ex__', '__repr__', '__reversed__', '__ror__', '__setattr__', '__setitem__', '__sizeof__', '__str__', '__subclasshook__', 'clear', 'copy', 'fromkeys', 'get', 'items', 'keys', 'pop', 'popitem', 'setdefault', 'update', 'values']\n"
     ]
    }
   ],
   "source": [
    "print(dir(t))"
   ]
  },
  {
   "cell_type": "code",
   "execution_count": 145,
   "id": "4ca72914",
   "metadata": {},
   "outputs": [
    {
     "data": {
      "text/plain": [
       "{'Tarun': 'Parihar', 'D.O.B': '22-12-2000', 'City': 'Ahmedabad'}"
      ]
     },
     "execution_count": 145,
     "metadata": {},
     "output_type": "execute_result"
    }
   ],
   "source": [
    "d=t.copy()  # it will create the the exact same copy of the given dictonary :\n",
    "d"
   ]
  },
  {
   "cell_type": "code",
   "execution_count": 146,
   "id": "5e52af25",
   "metadata": {},
   "outputs": [
    {
     "data": {
      "text/plain": [
       "{}"
      ]
     },
     "execution_count": 146,
     "metadata": {},
     "output_type": "execute_result"
    }
   ],
   "source": [
    "d.clear()  #it will clear the whole dictionary \n",
    "d"
   ]
  },
  {
   "cell_type": "code",
   "execution_count": 147,
   "id": "fc8ad9c0",
   "metadata": {},
   "outputs": [
    {
     "name": "stdout",
     "output_type": "stream",
     "text": [
      "Object `a.fromkeys` not found.\n",
      "{'t': None, 'r': None, 'p': None}\n"
     ]
    },
    {
     "data": {
      "text/plain": [
       "{1: None, 5: None, 3: None}"
      ]
     },
     "execution_count": 147,
     "metadata": {},
     "output_type": "execute_result"
    }
   ],
   "source": [
    "a.fromkeys?\n",
    "a=t.fromkeys('trp')   # fromkeys() can be used with lists,tuples,range() and dict. :\n",
    "print(a)\n",
    "l=[1,5,3]\n",
    "{}.fromkeys(l)  # {} is also refered as dictionary: "
   ]
  },
  {
   "cell_type": "code",
   "execution_count": 148,
   "id": "c6dba727",
   "metadata": {},
   "outputs": [
    {
     "name": "stdout",
     "output_type": "stream",
     "text": [
      "{'Tarun': 'Parihar', 'D.O.B': '22-12-2000', 'City': 'Ahmedabad'}\n",
      "5'9\n",
      "{'Tarun': 'Parihar', 'D.O.B': '22-12-2000', 'City': 'Ahmedabad'}\n"
     ]
    }
   ],
   "source": [
    "t.get(\"D.O.B\")\n",
    "print(t)\n",
    "b=t.get(\"height\",\"5'9\")  # from the get function we can add a temporary data \n",
    "print(b)\n",
    "print(t)"
   ]
  },
  {
   "cell_type": "code",
   "execution_count": 149,
   "id": "9a3bb5cf",
   "metadata": {},
   "outputs": [
    {
     "name": "stdout",
     "output_type": "stream",
     "text": [
      "{'Tarun': 'Parihar', 'D.O.B': '22-12-2000', 'City': 'Ahmedabad'}\n"
     ]
    }
   ],
   "source": [
    "t.items?\n",
    "t.items()   # to get the keys and values in set ,items() are used:\n",
    "print(t)   "
   ]
  },
  {
   "cell_type": "code",
   "execution_count": 150,
   "id": "1f3a9f92",
   "metadata": {},
   "outputs": [
    {
     "data": {
      "text/plain": [
       "dict_keys(['Tarun', 'D.O.B', 'City'])"
      ]
     },
     "execution_count": 150,
     "metadata": {},
     "output_type": "execute_result"
    }
   ],
   "source": [
    "a=t.keys()\n",
    "a"
   ]
  },
  {
   "cell_type": "code",
   "execution_count": 151,
   "id": "11c4e537",
   "metadata": {},
   "outputs": [
    {
     "name": "stdout",
     "output_type": "stream",
     "text": [
      "{'Tarun': 'Parihar', 'D.O.B': '22-12-2000'}\n"
     ]
    },
    {
     "data": {
      "text/plain": [
       "{'Tarun': 'Parihar', 'D.O.B': '22-12-2000', 'City': 'Ahmedabad'}"
      ]
     },
     "execution_count": 151,
     "metadata": {},
     "output_type": "execute_result"
    }
   ],
   "source": [
    "d=t.copy()\n",
    "d.pop?\n",
    "d.pop(\"City\")   # need to mention the key where the pop operation has to perform:\n",
    "print(d)\n",
    "t"
   ]
  },
  {
   "cell_type": "code",
   "execution_count": 152,
   "id": "b09beb71",
   "metadata": {},
   "outputs": [
    {
     "name": "stdout",
     "output_type": "stream",
     "text": [
      "{'Tarun': 'Parihar', 'D.O.B': '22-12-2000'}\n"
     ]
    },
    {
     "data": {
      "text/plain": [
       "{'Tarun': 'Parihar', 'D.O.B': '22-12-2000', 'City': 'Ahmedabad'}"
      ]
     },
     "execution_count": 152,
     "metadata": {},
     "output_type": "execute_result"
    }
   ],
   "source": [
    "z=t.copy()\n",
    "z.popitem?\n",
    "z.popitem()  #no need to mention the key automaticaly it will removes the last inserted key and values:\n",
    "print(z)\n",
    "t"
   ]
  },
  {
   "cell_type": "code",
   "execution_count": 153,
   "id": "0edf7f3f",
   "metadata": {},
   "outputs": [
    {
     "name": "stdout",
     "output_type": "stream",
     "text": [
      "{'Tarun': 'Parihar', 'D.O.B': '22-12-2000', 'City': 'Ahmedabad', 'Age': 22}\n"
     ]
    }
   ],
   "source": [
    "t.setdefault?\n",
    "t.setdefault(\"Age\" , 22)\n",
    "print(t)\n"
   ]
  },
  {
   "cell_type": "code",
   "execution_count": 154,
   "id": "0f4cba51",
   "metadata": {},
   "outputs": [
    {
     "data": {
      "text/plain": [
       "{'Tarun': 'Parihar',\n",
       " 'D.O.B': '22-12-2000',\n",
       " 'City': 'Ahmedabad',\n",
       " 'Age': 22,\n",
       " 'Nationality': 'Indian'}"
      ]
     },
     "execution_count": 154,
     "metadata": {},
     "output_type": "execute_result"
    }
   ],
   "source": [
    "t.update?\n",
    "t.update({\"Nationality\" : \"Indian\"})\n",
    "t"
   ]
  },
  {
   "cell_type": "code",
   "execution_count": 155,
   "id": "e91ef75d",
   "metadata": {},
   "outputs": [
    {
     "name": "stdout",
     "output_type": "stream",
     "text": [
      "dict_values(['Parihar', '22-12-2000', 'Ahmedabad', 22, 'Indian'])\n"
     ]
    }
   ],
   "source": [
    "t.values?\n",
    "x=t.values()\n",
    "print(x)"
   ]
  },
  {
   "cell_type": "markdown",
   "id": "ff3fe090",
   "metadata": {},
   "source": [
    "# Set"
   ]
  },
  {
   "cell_type": "code",
   "execution_count": 37,
   "id": "89f4e627",
   "metadata": {},
   "outputs": [
    {
     "data": {
      "text/plain": [
       "{1, 2, 21, 28, 3, 4, 6, 'chirag', 'tarun'}"
      ]
     },
     "execution_count": 37,
     "metadata": {},
     "output_type": "execute_result"
    }
   ],
   "source": [
    "s={1,1,2,28,3,3,4,21,4,6,6,\"tarun\",\"chirag\",\"tarun\"}  # unordered and unique\n",
    "s "
   ]
  },
  {
   "cell_type": "code",
   "execution_count": 38,
   "id": "b0cb8a5d",
   "metadata": {},
   "outputs": [
    {
     "data": {
      "text/plain": [
       "True"
      ]
     },
     "execution_count": 38,
     "metadata": {},
     "output_type": "execute_result"
    }
   ],
   "source": [
    "a={1,2,3,4,5}\n",
    "b={3,5,4}\n",
    "a.issuperset(b)"
   ]
  },
  {
   "cell_type": "code",
   "execution_count": 39,
   "id": "5068e75a",
   "metadata": {},
   "outputs": [
    {
     "data": {
      "text/plain": [
       "False"
      ]
     },
     "execution_count": 39,
     "metadata": {},
     "output_type": "execute_result"
    }
   ],
   "source": [
    "b.issuperset(a)"
   ]
  },
  {
   "cell_type": "code",
   "execution_count": 40,
   "id": "0241b5cb",
   "metadata": {},
   "outputs": [
    {
     "data": {
      "text/plain": [
       "True"
      ]
     },
     "execution_count": 40,
     "metadata": {},
     "output_type": "execute_result"
    }
   ],
   "source": [
    "b.issubset(a)"
   ]
  },
  {
   "cell_type": "code",
   "execution_count": 41,
   "id": "4ee09eab",
   "metadata": {},
   "outputs": [
    {
     "name": "stdout",
     "output_type": "stream",
     "text": [
      "['__and__', '__class__', '__class_getitem__', '__contains__', '__delattr__', '__dir__', '__doc__', '__eq__', '__format__', '__ge__', '__getattribute__', '__gt__', '__hash__', '__iand__', '__init__', '__init_subclass__', '__ior__', '__isub__', '__iter__', '__ixor__', '__le__', '__len__', '__lt__', '__ne__', '__new__', '__or__', '__rand__', '__reduce__', '__reduce_ex__', '__repr__', '__ror__', '__rsub__', '__rxor__', '__setattr__', '__sizeof__', '__str__', '__sub__', '__subclasshook__', '__xor__', 'add', 'clear', 'copy', 'difference', 'difference_update', 'discard', 'intersection', 'intersection_update', 'isdisjoint', 'issubset', 'issuperset', 'pop', 'remove', 'symmetric_difference', 'symmetric_difference_update', 'union', 'update']\n"
     ]
    }
   ],
   "source": [
    "print(dir(set))"
   ]
  },
  {
   "cell_type": "code",
   "execution_count": 42,
   "id": "941852d8",
   "metadata": {},
   "outputs": [
    {
     "data": {
      "text/plain": [
       "{1, 2, 3, 4, 5}"
      ]
     },
     "execution_count": 42,
     "metadata": {},
     "output_type": "execute_result"
    }
   ],
   "source": [
    "a"
   ]
  },
  {
   "cell_type": "code",
   "execution_count": 43,
   "id": "bc9f1a41",
   "metadata": {},
   "outputs": [
    {
     "data": {
      "text/plain": [
       "{3, 4, 5}"
      ]
     },
     "execution_count": 43,
     "metadata": {},
     "output_type": "execute_result"
    }
   ],
   "source": [
    "b"
   ]
  },
  {
   "cell_type": "code",
   "execution_count": 44,
   "id": "c7a82447",
   "metadata": {},
   "outputs": [
    {
     "data": {
      "text/plain": [
       "{1, 2, 3, 4, 5}"
      ]
     },
     "execution_count": 44,
     "metadata": {},
     "output_type": "execute_result"
    }
   ],
   "source": [
    "a.union(b)"
   ]
  },
  {
   "cell_type": "code",
   "execution_count": 45,
   "id": "6d84080e",
   "metadata": {},
   "outputs": [
    {
     "data": {
      "text/plain": [
       "{1, 2, 3, 4, 5}"
      ]
     },
     "execution_count": 45,
     "metadata": {},
     "output_type": "execute_result"
    }
   ],
   "source": [
    "b.union(a)"
   ]
  },
  {
   "cell_type": "code",
   "execution_count": 46,
   "id": "80885797",
   "metadata": {},
   "outputs": [
    {
     "data": {
      "text/plain": [
       "{3, 4, 5}"
      ]
     },
     "execution_count": 46,
     "metadata": {},
     "output_type": "execute_result"
    }
   ],
   "source": [
    "a.intersection(b)"
   ]
  },
  {
   "cell_type": "code",
   "execution_count": 47,
   "id": "af9d7ab2",
   "metadata": {},
   "outputs": [
    {
     "data": {
      "text/plain": [
       "{3, 4, 5}"
      ]
     },
     "execution_count": 47,
     "metadata": {},
     "output_type": "execute_result"
    }
   ],
   "source": [
    "b.intersection(a)"
   ]
  },
  {
   "cell_type": "code",
   "execution_count": 48,
   "id": "f1a5fbab",
   "metadata": {},
   "outputs": [
    {
     "data": {
      "text/plain": [
       "{1, 2}"
      ]
     },
     "execution_count": 48,
     "metadata": {},
     "output_type": "execute_result"
    }
   ],
   "source": [
    "a.difference(b)"
   ]
  },
  {
   "cell_type": "code",
   "execution_count": 49,
   "id": "a9e9ecbb",
   "metadata": {},
   "outputs": [
    {
     "data": {
      "text/plain": [
       "set()"
      ]
     },
     "execution_count": 49,
     "metadata": {},
     "output_type": "execute_result"
    }
   ],
   "source": [
    "b.difference(a)"
   ]
  },
  {
   "cell_type": "code",
   "execution_count": 50,
   "id": "88537dc5",
   "metadata": {},
   "outputs": [
    {
     "data": {
      "text/plain": [
       "{2, 3, 4, 5}"
      ]
     },
     "execution_count": 50,
     "metadata": {},
     "output_type": "execute_result"
    }
   ],
   "source": [
    "a.pop()\n",
    "a"
   ]
  },
  {
   "cell_type": "code",
   "execution_count": 52,
   "id": "4dd8ccb2",
   "metadata": {},
   "outputs": [
    {
     "data": {
      "text/plain": [
       "{1, 2, 3, 4, 5}"
      ]
     },
     "execution_count": 52,
     "metadata": {},
     "output_type": "execute_result"
    }
   ],
   "source": [
    "a.add(1)\n",
    "a"
   ]
  },
  {
   "cell_type": "code",
   "execution_count": 53,
   "id": "156cb7b2",
   "metadata": {},
   "outputs": [],
   "source": [
    "a.symmetric_difference?"
   ]
  }
 ],
 "metadata": {
  "kernelspec": {
   "display_name": "Python 3 (ipykernel)",
   "language": "python",
   "name": "python3"
  },
  "language_info": {
   "codemirror_mode": {
    "name": "ipython",
    "version": 3
   },
   "file_extension": ".py",
   "mimetype": "text/x-python",
   "name": "python",
   "nbconvert_exporter": "python",
   "pygments_lexer": "ipython3",
   "version": "3.10.4"
  }
 },
 "nbformat": 4,
 "nbformat_minor": 5
}
