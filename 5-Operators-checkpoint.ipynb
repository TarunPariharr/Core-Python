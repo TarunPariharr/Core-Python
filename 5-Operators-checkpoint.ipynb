{
 "cells": [
  {
   "cell_type": "code",
   "execution_count": 2,
   "id": "66311e82",
   "metadata": {},
   "outputs": [
    {
     "name": "stdout",
     "output_type": "stream",
     "text": [
      "1\n"
     ]
    }
   ],
   "source": [
    "# OPERATORS:\n",
    "\n",
    "# single line comment \n",
    "spam = 1 # comment with variable \n",
    "print(spam)\n"
   ]
  },
  {
   "cell_type": "code",
   "execution_count": 3,
   "id": "fc263ea6",
   "metadata": {},
   "outputs": [
    {
     "data": {
      "text/plain": [
       "4"
      ]
     },
     "execution_count": 3,
     "metadata": {},
     "output_type": "execute_result"
    }
   ],
   "source": [
    "2+2 # for addition"
   ]
  },
  {
   "cell_type": "code",
   "execution_count": 4,
   "id": "ead733cb",
   "metadata": {},
   "outputs": [
    {
     "data": {
      "text/plain": [
       "4"
      ]
     },
     "execution_count": 4,
     "metadata": {},
     "output_type": "execute_result"
    }
   ],
   "source": [
    "6-2 #for substraction"
   ]
  },
  {
   "cell_type": "code",
   "execution_count": 5,
   "id": "04562baa",
   "metadata": {},
   "outputs": [
    {
     "data": {
      "text/plain": [
       "12"
      ]
     },
     "execution_count": 5,
     "metadata": {},
     "output_type": "execute_result"
    }
   ],
   "source": [
    "2*6 # for multiplication"
   ]
  },
  {
   "cell_type": "code",
   "execution_count": 6,
   "id": "c36b5f6f",
   "metadata": {},
   "outputs": [
    {
     "data": {
      "text/plain": [
       "2.0"
      ]
     },
     "execution_count": 6,
     "metadata": {},
     "output_type": "execute_result"
    }
   ],
   "source": [
    "8/4 # for division"
   ]
  },
  {
   "cell_type": "code",
   "execution_count": 7,
   "id": "09ae7b3f",
   "metadata": {},
   "outputs": [
    {
     "data": {
      "text/plain": [
       "4.5"
      ]
     },
     "execution_count": 7,
     "metadata": {},
     "output_type": "execute_result"
    }
   ],
   "source": [
    "9/2 "
   ]
  },
  {
   "cell_type": "code",
   "execution_count": 8,
   "id": "1765fc0d",
   "metadata": {},
   "outputs": [
    {
     "data": {
      "text/plain": [
       "4"
      ]
     },
     "execution_count": 8,
     "metadata": {},
     "output_type": "execute_result"
    }
   ],
   "source": [
    "9//2 # for float division , it removes the values after the decimal point."
   ]
  },
  {
   "cell_type": "code",
   "execution_count": 9,
   "id": "f8abf77f",
   "metadata": {},
   "outputs": [
    {
     "data": {
      "text/plain": [
       "1"
      ]
     },
     "execution_count": 9,
     "metadata": {},
     "output_type": "execute_result"
    }
   ],
   "source": [
    "9%2 # for remainder"
   ]
  },
  {
   "cell_type": "code",
   "execution_count": 10,
   "id": "2e1dba1c",
   "metadata": {},
   "outputs": [
    {
     "data": {
      "text/plain": [
       "25"
      ]
     },
     "execution_count": 10,
     "metadata": {},
     "output_type": "execute_result"
    }
   ],
   "source": [
    "5**2 # for finding the powers or squares:"
   ]
  },
  {
   "cell_type": "code",
   "execution_count": 11,
   "id": "e5b3faa7",
   "metadata": {},
   "outputs": [
    {
     "data": {
      "text/plain": [
       "33"
      ]
     },
     "execution_count": 11,
     "metadata": {},
     "output_type": "execute_result"
    }
   ],
   "source": [
    "h = 8\n",
    "w = 6\n",
    "l = h * w\n",
    "l\n",
    "a = h+_ # \"-\" is for inserting the last calculated result\n",
    "a"
   ]
  },
  {
   "cell_type": "markdown",
   "id": "4bbab200",
   "metadata": {},
   "source": [
    "# Logical Operator:\n",
    "1.AND\n",
    "2.OR\n",
    "3.NOT\n",
    "False conditions----> 0,NONE,False,(),{},[],\"\" (Without space) all these conditons are false"
   ]
  },
  {
   "cell_type": "code",
   "execution_count": 8,
   "id": "f399c39f",
   "metadata": {},
   "outputs": [
    {
     "data": {
      "text/plain": [
       "20"
      ]
     },
     "execution_count": 8,
     "metadata": {},
     "output_type": "execute_result"
    }
   ],
   "source": [
    "# AND operators :- If all the conditons are true than it will return true otherwise false:\n",
    "a=10 and 20\n",
    "a"
   ]
  },
  {
   "cell_type": "code",
   "execution_count": 10,
   "id": "6d04bf49",
   "metadata": {},
   "outputs": [
    {
     "data": {
      "text/plain": [
       "0"
      ]
     },
     "execution_count": 10,
     "metadata": {},
     "output_type": "execute_result"
    }
   ],
   "source": [
    "10 and 5 and 10%5 "
   ]
  },
  {
   "cell_type": "code",
   "execution_count": 17,
   "id": "c4307a13",
   "metadata": {},
   "outputs": [],
   "source": [
    "# OR operators :- If any condition is true than true :"
   ]
  },
  {
   "cell_type": "code",
   "execution_count": 20,
   "id": "3eda5b01",
   "metadata": {},
   "outputs": [
    {
     "data": {
      "text/plain": [
       "22"
      ]
     },
     "execution_count": 20,
     "metadata": {},
     "output_type": "execute_result"
    }
   ],
   "source": [
    "0 or () or None or 22 or False "
   ]
  },
  {
   "cell_type": "code",
   "execution_count": 24,
   "id": "03320694",
   "metadata": {},
   "outputs": [
    {
     "data": {
      "text/plain": [
       "''"
      ]
     },
     "execution_count": 24,
     "metadata": {},
     "output_type": "execute_result"
    }
   ],
   "source": [
    "0 or None or False or \"\""
   ]
  },
  {
   "cell_type": "code",
   "execution_count": 25,
   "id": "aaf2d174",
   "metadata": {},
   "outputs": [],
   "source": [
    "# NOT operator it will inverse the result:"
   ]
  },
  {
   "cell_type": "code",
   "execution_count": 28,
   "id": "2dfa082a",
   "metadata": {},
   "outputs": [
    {
     "data": {
      "text/plain": [
       "True"
      ]
     },
     "execution_count": 28,
     "metadata": {},
     "output_type": "execute_result"
    }
   ],
   "source": [
    "not False "
   ]
  },
  {
   "cell_type": "code",
   "execution_count": 30,
   "id": "f6a47eec",
   "metadata": {},
   "outputs": [
    {
     "data": {
      "text/plain": [
       "False"
      ]
     },
     "execution_count": 30,
     "metadata": {},
     "output_type": "execute_result"
    }
   ],
   "source": [
    "not True"
   ]
  },
  {
   "cell_type": "code",
   "execution_count": 31,
   "id": "466e8065",
   "metadata": {},
   "outputs": [
    {
     "data": {
      "text/plain": [
       "False"
      ]
     },
     "execution_count": 31,
     "metadata": {},
     "output_type": "execute_result"
    }
   ],
   "source": [
    "not ((0 or \"tarun\") and (22 or []))  # Intial ans is true but changed to false because of not operator"
   ]
  },
  {
   "cell_type": "markdown",
   "id": "883eeeb3",
   "metadata": {},
   "source": [
    "# Assignment operator :- =,+,-,*,/,//,%,+=,-=,*="
   ]
  },
  {
   "cell_type": "code",
   "execution_count": 40,
   "id": "22c99d7c",
   "metadata": {},
   "outputs": [
    {
     "data": {
      "text/plain": [
       "10"
      ]
     },
     "execution_count": 40,
     "metadata": {},
     "output_type": "execute_result"
    }
   ],
   "source": [
    "a=10\n",
    "a"
   ]
  },
  {
   "cell_type": "code",
   "execution_count": 41,
   "id": "b5df025d",
   "metadata": {},
   "outputs": [
    {
     "data": {
      "text/plain": [
       "40"
      ]
     },
     "execution_count": 41,
     "metadata": {},
     "output_type": "execute_result"
    }
   ],
   "source": [
    "a+=30\n",
    "a"
   ]
  },
  {
   "cell_type": "code",
   "execution_count": 42,
   "id": "deb7c165",
   "metadata": {},
   "outputs": [
    {
     "data": {
      "text/plain": [
       "30"
      ]
     },
     "execution_count": 42,
     "metadata": {},
     "output_type": "execute_result"
    }
   ],
   "source": [
    "a-=10\n",
    "a"
   ]
  },
  {
   "cell_type": "markdown",
   "id": "7faf756a",
   "metadata": {},
   "source": [
    "# Comparision Operator :- ==,!=,>,<,<=,>="
   ]
  },
  {
   "cell_type": "code",
   "execution_count": 47,
   "id": "6ba604a4",
   "metadata": {},
   "outputs": [
    {
     "data": {
      "text/plain": [
       "True"
      ]
     },
     "execution_count": 47,
     "metadata": {},
     "output_type": "execute_result"
    }
   ],
   "source": [
    "a=10\n",
    "b=20\n",
    "a!=b"
   ]
  },
  {
   "cell_type": "code",
   "execution_count": 50,
   "id": "5082ca76",
   "metadata": {},
   "outputs": [
    {
     "data": {
      "text/plain": [
       "False"
      ]
     },
     "execution_count": 50,
     "metadata": {},
     "output_type": "execute_result"
    }
   ],
   "source": [
    "a==b"
   ]
  },
  {
   "cell_type": "code",
   "execution_count": 52,
   "id": "9c38f2b3",
   "metadata": {},
   "outputs": [
    {
     "data": {
      "text/plain": [
       "False"
      ]
     },
     "execution_count": 52,
     "metadata": {},
     "output_type": "execute_result"
    }
   ],
   "source": [
    "a>b"
   ]
  },
  {
   "cell_type": "code",
   "execution_count": 53,
   "id": "447600af",
   "metadata": {},
   "outputs": [
    {
     "data": {
      "text/plain": [
       "True"
      ]
     },
     "execution_count": 53,
     "metadata": {},
     "output_type": "execute_result"
    }
   ],
   "source": [
    "a<b"
   ]
  },
  {
   "cell_type": "code",
   "execution_count": 54,
   "id": "acf6fd68",
   "metadata": {},
   "outputs": [
    {
     "data": {
      "text/plain": [
       "True"
      ]
     },
     "execution_count": 54,
     "metadata": {},
     "output_type": "execute_result"
    }
   ],
   "source": [
    "b>a"
   ]
  },
  {
   "cell_type": "code",
   "execution_count": 55,
   "id": "b056670c",
   "metadata": {},
   "outputs": [
    {
     "data": {
      "text/plain": [
       "False"
      ]
     },
     "execution_count": 55,
     "metadata": {},
     "output_type": "execute_result"
    }
   ],
   "source": [
    "a>=b"
   ]
  },
  {
   "cell_type": "code",
   "execution_count": 56,
   "id": "028554e0",
   "metadata": {},
   "outputs": [
    {
     "data": {
      "text/plain": [
       "False"
      ]
     },
     "execution_count": 56,
     "metadata": {},
     "output_type": "execute_result"
    }
   ],
   "source": [
    "b<=a"
   ]
  },
  {
   "cell_type": "code",
   "execution_count": 57,
   "id": "3ade8199",
   "metadata": {},
   "outputs": [
    {
     "data": {
      "text/plain": [
       "True"
      ]
     },
     "execution_count": 57,
     "metadata": {},
     "output_type": "execute_result"
    }
   ],
   "source": [
    "b>=a"
   ]
  },
  {
   "cell_type": "markdown",
   "id": "88e8a9e7",
   "metadata": {},
   "source": [
    "# Membership Operator: in and not in:\n",
    "# -This operator helps to identify that the given string is in the given obect or not."
   ]
  },
  {
   "cell_type": "code",
   "execution_count": 10,
   "id": "313976bb",
   "metadata": {},
   "outputs": [
    {
     "data": {
      "text/plain": [
       "True"
      ]
     },
     "execution_count": 10,
     "metadata": {},
     "output_type": "execute_result"
    }
   ],
   "source": [
    "t= \"Hello sir how are you?\"\n",
    "\"sir\" in t"
   ]
  },
  {
   "cell_type": "code",
   "execution_count": 9,
   "id": "470336e4",
   "metadata": {},
   "outputs": [
    {
     "data": {
      "text/plain": [
       "True"
      ]
     },
     "execution_count": 9,
     "metadata": {},
     "output_type": "execute_result"
    }
   ],
   "source": [
    "\"is\" not in t"
   ]
  },
  {
   "cell_type": "markdown",
   "id": "689e1d4e",
   "metadata": {},
   "source": [
    "# Identify Operators:   is and is not "
   ]
  },
  {
   "cell_type": "code",
   "execution_count": 18,
   "id": "db22fa59",
   "metadata": {},
   "outputs": [
    {
     "data": {
      "text/plain": [
       "1469845933392"
      ]
     },
     "execution_count": 18,
     "metadata": {},
     "output_type": "execute_result"
    }
   ],
   "source": [
    "a=100\n",
    "b=100\n",
    "id(a)"
   ]
  },
  {
   "cell_type": "code",
   "execution_count": 19,
   "id": "3331dbe5",
   "metadata": {},
   "outputs": [
    {
     "data": {
      "text/plain": [
       "1469845933392"
      ]
     },
     "execution_count": 19,
     "metadata": {},
     "output_type": "execute_result"
    }
   ],
   "source": [
    "id(b)"
   ]
  },
  {
   "cell_type": "code",
   "execution_count": 20,
   "id": "82aa8cc4",
   "metadata": {},
   "outputs": [
    {
     "data": {
      "text/plain": [
       "True"
      ]
     },
     "execution_count": 20,
     "metadata": {},
     "output_type": "execute_result"
    }
   ],
   "source": [
    "a is b \n",
    "#For integer values 0 to 256 id's will be the same if the value of the diffrent variables is the same. "
   ]
  },
  {
   "cell_type": "code",
   "execution_count": 28,
   "id": "3b4c9619",
   "metadata": {},
   "outputs": [
    {
     "data": {
      "text/plain": [
       "False"
      ]
     },
     "execution_count": 28,
     "metadata": {},
     "output_type": "execute_result"
    }
   ],
   "source": [
    "l=[1,2,3]\n",
    "l1=[1,2,3]\n",
    "l is l1"
   ]
  },
  {
   "cell_type": "code",
   "execution_count": 27,
   "id": "291e83e2",
   "metadata": {},
   "outputs": [
    {
     "name": "stdout",
     "output_type": "stream",
     "text": [
      "1469923653696\n",
      "1469923487360\n"
     ]
    }
   ],
   "source": [
    "print(id(l))\n",
    "print(id(l1))\n",
    "#Here in list eventhough the objects are same but it will consider it with diffrent id's."
   ]
  },
  {
   "cell_type": "code",
   "execution_count": 42,
   "id": "eb62d2e2",
   "metadata": {},
   "outputs": [
    {
     "name": "stdout",
     "output_type": "stream",
     "text": [
      "1469919134704\n",
      "1469919134704\n",
      "True\n",
      "False\n"
     ]
    },
    {
     "data": {
      "text/plain": [
       "False"
      ]
     },
     "execution_count": 42,
     "metadata": {},
     "output_type": "execute_result"
    }
   ],
   "source": [
    "s= \"hello\"\n",
    "s1=\"hello\"\n",
    "print(id(s))\n",
    "print(id(s1))\n",
    "print(s is s1)\n",
    "#In strings only there must be one word and there must not be the any wide space than it will consider as alpha object. \n",
    "s2=\"hello \"\n",
    "print(s1 is s2)\n",
    "s2.isalpha() # s2 object is not a string object because it has wide space."
   ]
  }
 ],
 "metadata": {
  "kernelspec": {
   "display_name": "Python 3 (ipykernel)",
   "language": "python",
   "name": "python3"
  },
  "language_info": {
   "codemirror_mode": {
    "name": "ipython",
    "version": 3
   },
   "file_extension": ".py",
   "mimetype": "text/x-python",
   "name": "python",
   "nbconvert_exporter": "python",
   "pygments_lexer": "ipython3",
   "version": "3.10.4"
  }
 },
 "nbformat": 4,
 "nbformat_minor": 5
}
