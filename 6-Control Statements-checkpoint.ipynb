{
 "cells": [
  {
   "cell_type": "markdown",
   "id": "be911e22",
   "metadata": {},
   "source": [
    "# Control Statement:"
   ]
  },
  {
   "cell_type": "code",
   "execution_count": 2,
   "id": "fe84b9d1",
   "metadata": {},
   "outputs": [
    {
     "data": {
      "text/plain": [
       "'if condition 1:\\n        print()\\n   elif condition 2:\\n        print()\\n   else : Condtion 3\\n        print()'"
      ]
     },
     "execution_count": 2,
     "metadata": {},
     "output_type": "execute_result"
    }
   ],
   "source": [
    "# Syntax\n",
    "\"\"\"if condition 1:\n",
    "        print()\n",
    "   elif condition 2:\n",
    "        print()\n",
    "   else : Condtion 3\n",
    "        print()\"\"\""
   ]
  },
  {
   "cell_type": "code",
   "execution_count": 6,
   "id": "ae23961d",
   "metadata": {},
   "outputs": [
    {
     "name": "stdout",
     "output_type": "stream",
     "text": [
      "Enter your name:tarun\n",
      "Welcome\n"
     ]
    }
   ],
   "source": [
    "name=input(\"Enter your name:\")\n",
    "if name==\"tarun\":\n",
    "    print('You are Welcome')\n",
    "else:\n",
    "    print(\"You are not welcome\")"
   ]
  },
  {
   "cell_type": "markdown",
   "id": "8492497f",
   "metadata": {},
   "source": [
    "# 1.If n is odd, print Weird "
   ]
  },
  {
   "cell_type": "code",
   "execution_count": 22,
   "id": "91f8186f",
   "metadata": {},
   "outputs": [
    {
     "name": "stdout",
     "output_type": "stream",
     "text": [
      "Enter number:4\n",
      "It's even 4\n"
     ]
    }
   ],
   "source": [
    "n = int(input(\"Enter number:\"))\n",
    "if n%2==1:\n",
    "    print(\"Weired\",n)\n",
    "else:\n",
    "    print(\"It's even\",n)"
   ]
  },
  {
   "cell_type": "markdown",
   "id": "e981fa10",
   "metadata": {},
   "source": [
    "# 2. If n is even and in the inclusive range of 2 to 5 , print Not Weird:"
   ]
  },
  {
   "cell_type": "code",
   "execution_count": 29,
   "id": "f281eff7",
   "metadata": {},
   "outputs": [
    {
     "name": "stdout",
     "output_type": "stream",
     "text": [
      "Enter the number = 40\n",
      "Weird\n"
     ]
    }
   ],
   "source": [
    "n = int(input(\"Enter the number = \"))\n",
    "if (n>=2 and n<=5 and n%2==0) :\n",
    "    print(\"Not weird\")\n",
    "else:\n",
    "    print(\"Weird\")\n"
   ]
  },
  {
   "cell_type": "markdown",
   "id": "11763da7",
   "metadata": {},
   "source": [
    "# 3. If n is even and in the inclusive range of 6 to 20 , print Weird "
   ]
  },
  {
   "cell_type": "code",
   "execution_count": 33,
   "id": "334c42fd",
   "metadata": {},
   "outputs": [
    {
     "name": "stdout",
     "output_type": "stream",
     "text": [
      "Enter the number: 16\n",
      "Weird\n"
     ]
    }
   ],
   "source": [
    "n = int(input(\"Enter the number: \"))\n",
    "if (n>=6 and n<=20 and n%2==0):\n",
    "    print(\"Weird\")\n",
    "else: print(\"Not weird\") "
   ]
  },
  {
   "cell_type": "markdown",
   "id": "0b4f512c",
   "metadata": {},
   "source": [
    "# 4. If n is even and greater than 20, print Not Weird"
   ]
  },
  {
   "cell_type": "code",
   "execution_count": 38,
   "id": "0577b9c0",
   "metadata": {},
   "outputs": [
    {
     "name": "stdout",
     "output_type": "stream",
     "text": [
      "Enter the number: 12\n",
      "weird\n"
     ]
    }
   ],
   "source": [
    "n = int(input(\"Enter the number: \"))\n",
    "if (n>20 and n%2==0):\n",
    "    print(\"NOt Weird\") \n",
    "else: print(\"weird\")"
   ]
  },
  {
   "cell_type": "markdown",
   "id": "d936c3c0",
   "metadata": {},
   "source": [
    "# 5. Write a Python program to find maximum between two numbers."
   ]
  },
  {
   "cell_type": "code",
   "execution_count": 4,
   "id": "539adfcb",
   "metadata": {},
   "outputs": [
    {
     "name": "stdout",
     "output_type": "stream",
     "text": [
      "Enter the number 1=3\n",
      "Enter the number 2=4\n",
      "4, is greater  4\n"
     ]
    }
   ],
   "source": [
    "n1 = int(input(\"Enter the number 1=\"))\n",
    "n2 = int(input(\"Enter the number 2=\"))\n",
    "if n1>n2:\n",
    "    print(f\"{n1} is greater\",n1 )\n",
    "elif n2>n1 :\n",
    "    print (f\"{n2}, is greater \",n2)\n",
    "else: \n",
    "    print(f\"{n1} {n2},Both are equal\",)\n"
   ]
  },
  {
   "cell_type": "markdown",
   "id": "f1bbbc07",
   "metadata": {},
   "source": [
    "# 6. Write a Python program to find maximum between three numbers. "
   ]
  },
  {
   "cell_type": "code",
   "execution_count": 1,
   "id": "c96091a1",
   "metadata": {},
   "outputs": [
    {
     "name": "stdout",
     "output_type": "stream",
     "text": [
      "Enter a=3\n",
      "Enter b=3\n",
      "Enter c=3\n",
      "3,3,3 they all are Equal\n"
     ]
    }
   ],
   "source": [
    "a=int(input(\"Enter a=\"))\n",
    "b=int(input(\"Enter b=\"))\n",
    "c=int(input(\"Enter c=\"))\n",
    "\n",
    "if (a>b and a>c):\n",
    "    print(f\"{a} A is greater\")\n",
    "elif (b>a and b>c) :\n",
    "    print(f\"{b} B is greater\")\n",
    "elif (c>a and c>b):\n",
    "    print(f\"{c} C is greater\")\n",
    "else:\n",
    "    print (f\"{a},{b},{c} they all are Equal\")\n",
    "    "
   ]
  },
  {
   "cell_type": "markdown",
   "id": "beca5a41",
   "metadata": {},
   "source": [
    "# 7. Write a Python program to check whether a number is negative, positive or zero."
   ]
  },
  {
   "cell_type": "code",
   "execution_count": 7,
   "id": "559f86a0",
   "metadata": {},
   "outputs": [
    {
     "name": "stdout",
     "output_type": "stream",
     "text": [
      "Enter the number7\n",
      "A is Positive 7\n",
      "-------------------\n"
     ]
    }
   ],
   "source": [
    "a = int(input(\"Enter the number\"))\n",
    "if a<0 :\n",
    "    print(\"A is negative\",a)\n",
    "elif a>0:\n",
    "    print(\"A is Positive\",a)\n",
    "else:\n",
    "    print(\"A is zero\",a)\n",
    "print(\"-------------------\")"
   ]
  },
  {
   "cell_type": "markdown",
   "id": "415dd6d6",
   "metadata": {},
   "source": [
    "# 8. Write a Python program to check whether a number is divisible by 5 and 11 or not."
   ]
  },
  {
   "cell_type": "code",
   "execution_count": 15,
   "id": "3993550a",
   "metadata": {},
   "outputs": [
    {
     "name": "stdout",
     "output_type": "stream",
     "text": [
      "Enter the number:55\n",
      "This number is divisible with both numbers 55\n"
     ]
    }
   ],
   "source": [
    "n= int(input(\"Enter the number:\"))\n",
    "if (n%5==0 and n%11==0):\n",
    "    print(\"This number is divisible with both numbers\",n)\n",
    "else:\n",
    "    print(\"It is not divisible with both the numbers:\",n)"
   ]
  },
  {
   "cell_type": "markdown",
   "id": "d6d6a121",
   "metadata": {},
   "source": [
    "# 9. Write a Python program to check whether a number is even or odd."
   ]
  },
  {
   "cell_type": "code",
   "execution_count": 8,
   "id": "9a815e61",
   "metadata": {},
   "outputs": [
    {
     "name": "stdout",
     "output_type": "stream",
     "text": [
      "Enter the number:6\n",
      "The number is even: 6\n"
     ]
    }
   ],
   "source": [
    "n = int(input(\"Enter the number:\"))\n",
    "if (n%2==0):\n",
    "    print(\"The number is even:\",n)\n",
    "else:\n",
    "    print(\"Odd number:\",n)"
   ]
  },
  {
   "cell_type": "markdown",
   "id": "15f1947d",
   "metadata": {},
   "source": [
    "# 10.Write a Python program to check whether a year is leap year or not."
   ]
  },
  {
   "cell_type": "code",
   "execution_count": 16,
   "id": "679c265a",
   "metadata": {},
   "outputs": [
    {
     "name": "stdout",
     "output_type": "stream",
     "text": [
      "Enter the year:2008\n",
      "The year is a leap year: 2008\n"
     ]
    }
   ],
   "source": [
    "year = int(input(\"Enter the year:\"))\n",
    "if year%4==0 and (year%100 or year%400==0):\n",
    "        print(\"The year is a leap year:\",year)\n",
    "else: \n",
    "    print(\"This is not a leap year:\",year)"
   ]
  },
  {
   "cell_type": "markdown",
   "id": "bf82ab3f",
   "metadata": {},
   "source": [
    "# 11.Write a Python program to check whether a character is alphabet or not."
   ]
  },
  {
   "cell_type": "code",
   "execution_count": 2,
   "id": "24969b8a",
   "metadata": {},
   "outputs": [
    {
     "name": "stdout",
     "output_type": "stream",
     "text": [
      "Enter Alphabet:x\n",
      "It's an alphabet  x\n"
     ]
    }
   ],
   "source": [
    "stri=input(\"Enter Alphabet:\")\n",
    "if stri>=\"a\" and stri<=\"z\":\n",
    "    print(\"It's an alphabet \",stri)\n",
    "else: \n",
    "    print(\"It's not an alphabet\",stri)\n",
    "    "
   ]
  },
  {
   "cell_type": "markdown",
   "id": "f2ad4a17",
   "metadata": {},
   "source": [
    "# 12.Write a Python program to input any alphabet and check whether it is vowel or consonant."
   ]
  },
  {
   "cell_type": "code",
   "execution_count": null,
   "id": "e0ef2418",
   "metadata": {},
   "outputs": [],
   "source": [
    "l=[\"a\",\"e\",\"i\",\"o\",\"u\",\"A\",\"E\",\"I\",\"O\",\"U\"]\n",
    "alpha = input(\"Enter Letter:\")\n",
    "if alpha in l:\n",
    "    print(\"It's a vowel:\",alpha)\n",
    "else:\n",
    "    print(\"It is a consonent:\",alpha)"
   ]
  },
  {
   "cell_type": "markdown",
   "id": "5bbdd877",
   "metadata": {},
   "source": [
    "# WAP to find the middle value from 3 values:"
   ]
  },
  {
   "cell_type": "code",
   "execution_count": null,
   "id": "62d08ae1",
   "metadata": {},
   "outputs": [],
   "source": [
    "a=int(input(\"Enter Number 1:\"))\n",
    "b=int(input(\"Enter Number 2:\"))\n",
    "c=int(input(\"Enter Number 3:\"))\n",
    "if (a>b and a<c) or ( a>c and a<b):\n",
    "    print(\"A is at middle:\",a)\n",
    "elif (b>a and b<c) or (b>c and b<a):\n",
    "    print(\"B is at middle:\",b)\n",
    "elif (c>a and c<b) or (c>b and c<a):\n",
    "    print(\"C is at middle:\",c)\n",
    "else:\n",
    "    print(\"The values are equal\")"
   ]
  },
  {
   "cell_type": "markdown",
   "id": "020eebc4",
   "metadata": {},
   "source": [
    "# 13.Write a Python program to input any character and check whether it is alphabet, digit or special character."
   ]
  },
  {
   "cell_type": "code",
   "execution_count": 19,
   "id": "93cdcf9a",
   "metadata": {},
   "outputs": [
    {
     "name": "stdout",
     "output_type": "stream",
     "text": [
      "Enter the character:\\t\n",
      "It is a special character: \\t\n"
     ]
    }
   ],
   "source": [
    "word=input(\"Enter the character:\")\n",
    "if word>=\"a\" and word<=\"z\":\n",
    "    print(\"Its an alphabet:\",word)\n",
    "elif word>=\"0\" and word<=\"99999\":\n",
    "    print(\"It is a digit:\",word)\n",
    "else:\n",
    "    print(\"It is a special character:\",word)"
   ]
  },
  {
   "cell_type": "code",
   "execution_count": 22,
   "id": "24e425a2",
   "metadata": {},
   "outputs": [
    {
     "name": "stdout",
     "output_type": "stream",
     "text": [
      "Enter the character:/\n",
      "It's a special character \n"
     ]
    }
   ],
   "source": [
    "ch=input(\"Enter the character:\")\n",
    "if(ch.isupper() or ch.islower()):\n",
    "    print(\"It is an alphabet:\",ch)\n",
    "elif ch.isdigit():\n",
    "    print(\"Its is a digit\",ch)\n",
    "else:\n",
    "    print(\"It's a special character \")"
   ]
  },
  {
   "cell_type": "markdown",
   "id": "b19e40c3",
   "metadata": {},
   "source": [
    "# 14.Write a Python program to check whether a character is uppercase or lowercase alphabet."
   ]
  },
  {
   "cell_type": "code",
   "execution_count": 18,
   "id": "98b0b8ef",
   "metadata": {},
   "outputs": [
    {
     "name": "stdout",
     "output_type": "stream",
     "text": [
      "Enter the word:s\n",
      "Lowercase: s\n"
     ]
    }
   ],
   "source": [
    "n=input(\"Enter the word:\")\n",
    "if n.islower():\n",
    "    print(\"Lowercase:\",n)\n",
    "elif n.isupper():\n",
    "    print(\"Uppercase:\",n)\n",
    "else: \n",
    "    print(\"Its not an alphabet:\")"
   ]
  },
  {
   "cell_type": "markdown",
   "id": "5c9d1144",
   "metadata": {},
   "source": [
    "# 15.Write a Python program to input week number and print week day."
   ]
  },
  {
   "cell_type": "code",
   "execution_count": 32,
   "id": "96ffcc27",
   "metadata": {},
   "outputs": [
    {
     "name": "stdout",
     "output_type": "stream",
     "text": [
      "Enter the week number:5\n",
      "The entered number is '5' and day is ''Friday''\n"
     ]
    }
   ],
   "source": [
    "week={7:\"Sunday\",1:\"Monday\",2:\"Tuesday\",3:\"Wednesday\",4:\"Thrusday\",5:\"Friday\",6:\"Saturday\"}\n",
    "n=int(input(\"Enter the week number:\"))\n",
    "value=week.get(n,)\n",
    "if n>=1 and n<=7:\n",
    "    if value:\n",
    "            print(f\"The entered number is '{n}' and day is ''{value}''\")\n",
    "    else:\n",
    "          print(\"Enter the right number:\")\n",
    "else:\n",
    "    print(\"Enter the between 1 to 7:\")"
   ]
  },
  {
   "cell_type": "markdown",
   "id": "605b323c",
   "metadata": {},
   "source": [
    "# 16.Write a Python program to input month number and print number of days in that month."
   ]
  },
  {
   "cell_type": "code",
   "execution_count": 50,
   "id": "1ceb7793",
   "metadata": {},
   "outputs": [
    {
     "name": "stdout",
     "output_type": "stream",
     "text": [
      "Enter the month number:4\n",
      "The entered month is '4' and the number of days are '30'\n"
     ]
    }
   ],
   "source": [
    "month={1:31,2:28,3:31,4:30,5:31,6:30,7:31,8:31,9:30,10:31,11:30,12:31}\n",
    "key=int(input(\"Enter the month number:\"))\n",
    "value=month.get(key,)\n",
    "if key>=1 and key<=12:\n",
    "    if value:\n",
    "        print(f\"The entered month is '{key}' and the number of days are '{value}'\")\n",
    "    else:\n",
    "        print(\"Boing\")\n",
    "else:\n",
    "    print(\"Enter the number in between 1 to 12:\")"
   ]
  },
  {
   "cell_type": "markdown",
   "id": "58a7e0d6",
   "metadata": {},
   "source": [
    "# 17-Write a Python program to count total number of notes in given amount.\n"
   ]
  },
  {
   "cell_type": "code",
   "execution_count": 11,
   "id": "09605afc",
   "metadata": {},
   "outputs": [
    {
     "name": "stdout",
     "output_type": "stream",
     "text": [
      "Enter the amount:44\n",
      "Two thousand notes are:0\n",
      "Five hundreds notes are:0\n",
      "Two hundred notes are:0\n",
      "One hundred notes are:0\n",
      "Fifty rupee notes are:0\n",
      "Twenty rupee notes are:2\n",
      "Ten rupee notes are:0\n"
     ]
    }
   ],
   "source": [
    "amount=int(input(\"Enter the amount:\"))\n",
    "tt=amount//2000\n",
    "rtt=amount%2000\n",
    "fh=rtt//500\n",
    "rfh=rtt%500\n",
    "th=rfh//200\n",
    "rth=rfh%200\n",
    "hr=rth//100\n",
    "rhr=rth%100\n",
    "fr=rhr//50\n",
    "rfr=rhr%50\n",
    "tr=rfr//20\n",
    "rtr=rfr%20\n",
    "ten=rtr//10\n",
    "rten=rtr%10\n",
    "\n",
    "if amount%2000:\n",
    "    print(f\"Two thousand notes are:{tt}\")\n",
    "    if amount%500:\n",
    "        print(f\"Five hundreds notes are:{fh}\")\n",
    "        if amount%200:\n",
    "            print(f\"Two hundred notes are:{th}\")\n",
    "            if amount%100:\n",
    "                print(f\"One hundred notes are:{hr}\")\n",
    "                if amount%50:\n",
    "                    print(f\"Fifty rupee notes are:{fr}\")\n",
    "                    if amount%20:\n",
    "                        print(f\"Twenty rupee notes are:{tr}\")\n",
    "                        if amount%10:\n",
    "                            print(f\"Ten rupee notes are:{ten}\")\n",
    "                        else:\n",
    "                            print(f\"Ten rupee notes are{ten}\")\n",
    "                    else:\n",
    "                            print(f\"Twenty rupee notes are:{tr}\")  \n",
    "                else:\n",
    "                    print(f\"Fifty rupee notes are:{fr}\")\n",
    "            else:\n",
    "                print(f\"One hundred notes are:{hr}\")                     \n",
    "        else:\n",
    "            print(f\"Two hundred notes are:{th}\")\n",
    "    else:\n",
    "        print(f\"Five hundreds notes are:{fh}\")           \n",
    "else:\n",
    "    print(f\"Two thousand notes are:{tt}\")"
   ]
  },
  {
   "cell_type": "markdown",
   "id": "9566dfa3",
   "metadata": {},
   "source": [
    "# 18.Write a Python program to input angles of a triangle and check whether triangle is valid or not."
   ]
  },
  {
   "cell_type": "code",
   "execution_count": null,
   "id": "a67a5302",
   "metadata": {},
   "outputs": [],
   "source": [
    "a=int(input(\"Enter the side A:\"))\n",
    "b=int(input(\"Enter the side B:\"))\n",
    "c=int(input(\"Enter the side C:\"))\n",
    "angle=a+b+c\n",
    "if angle==180:\n",
    "    print(\"Triangle is valid:\",angle)\n",
    "else:\n",
    "    print(\"Triangle is not valid:\",angle)"
   ]
  },
  {
   "cell_type": "markdown",
   "id": "8a77404c",
   "metadata": {},
   "source": [
    "# 19.Write a Python program to input all sides of a triangle and check whether triangle is valid or not."
   ]
  },
  {
   "cell_type": "code",
   "execution_count": null,
   "id": "73062c2a",
   "metadata": {},
   "outputs": [],
   "source": [
    "a=int(input(\"Enter side A:\"))\n",
    "b=int(input(\"Enter side B:\"))\n",
    "c=int(input(\"Enter side C:\"))\n",
    "if (a>b) and (a>c) and (b+c>a):\n",
    "    print(\"The triangle is valid:\")\n",
    "elif (b>a)and (b>c) and (a+c>b):\n",
    "    print(\"The triangle is valid:\")\n",
    "elif (c>a) and (c>b) and(a+b>c):\n",
    "    print(\"The triangle is valid :\")\n",
    "else: \n",
    "    print(\"Triangle is not valid\")"
   ]
  },
  {
   "cell_type": "markdown",
   "id": "a262b2fc",
   "metadata": {},
   "source": [
    "# 20. Write a Python program to check whether the triangle is equilateral, isosceles or scalene triangle. "
   ]
  },
  {
   "cell_type": "code",
   "execution_count": 4,
   "id": "57d6c81f",
   "metadata": {},
   "outputs": [
    {
     "name": "stdout",
     "output_type": "stream",
     "text": [
      "Enter the length of A side:8\n",
      "Enter the length of B side:5\n",
      "Enter the length of C side:6\n",
      "This is a scalene Triangle:\n"
     ]
    }
   ],
   "source": [
    "a=int(input(\"Enter the length of side A:\"))\n",
    "b=int(input(\"Enter the length of side B:\"))\n",
    "c=int(input(\"Enter the length of side C:\"))\n",
    "if a==b==c:\n",
    "    print(\"This is a equilateral Triangle:\")\n",
    "elif a!=b!=c:\n",
    "    print(\"This is a scalene Triangle:\")\n",
    "else:\n",
    "    print(\"This is a isosceles Triangle:\")"
   ]
  },
  {
   "cell_type": "code",
   "execution_count": null,
   "id": "4aa60697",
   "metadata": {},
   "outputs": [],
   "source": [
    "\"\""
   ]
  },
  {
   "cell_type": "code",
   "execution_count": null,
   "id": "0d9b7dd4",
   "metadata": {},
   "outputs": [],
   "source": []
  }
 ],
 "metadata": {
  "kernelspec": {
   "display_name": "Python 3 (ipykernel)",
   "language": "python",
   "name": "python3"
  },
  "language_info": {
   "codemirror_mode": {
    "name": "ipython",
    "version": 3
   },
   "file_extension": ".py",
   "mimetype": "text/x-python",
   "name": "python",
   "nbconvert_exporter": "python",
   "pygments_lexer": "ipython3",
   "version": "3.10.4"
  }
 },
 "nbformat": 4,
 "nbformat_minor": 5
}
