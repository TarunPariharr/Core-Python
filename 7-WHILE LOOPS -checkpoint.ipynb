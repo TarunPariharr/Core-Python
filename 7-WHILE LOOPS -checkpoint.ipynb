{
 "cells": [
  {
   "cell_type": "code",
   "execution_count": 3,
   "id": "b4020526",
   "metadata": {},
   "outputs": [
    {
     "name": "stdout",
     "output_type": "stream",
     "text": [
      "Enter number:5\n",
      "5\n",
      "4\n",
      "3\n",
      "2\n",
      "1\n",
      "0\n"
     ]
    }
   ],
   "source": [
    "n=int(input(\"Enter number:\"))\n",
    "i=1 \n",
    "while n>=i:\n",
    "    print(n)\n",
    "    n=n-1"
   ]
  },
  {
   "cell_type": "code",
   "execution_count": 2,
   "id": "87f27729",
   "metadata": {},
   "outputs": [
    {
     "name": "stdout",
     "output_type": "stream",
     "text": [
      "number:5\n",
      "1\n",
      "2\n",
      "3\n",
      "4\n",
      "5\n"
     ]
    }
   ],
   "source": [
    "n=int(input(\"number:\"))\n",
    "i=1\n",
    "while n>=i:\n",
    "    print(i)\n",
    "    i=i+1"
   ]
  },
  {
   "cell_type": "code",
   "execution_count": 4,
   "id": "1d63c557",
   "metadata": {},
   "outputs": [
    {
     "name": "stdout",
     "output_type": "stream",
     "text": [
      "number:4\n",
      "10\n",
      "8\n",
      "6\n",
      "4\n"
     ]
    }
   ],
   "source": [
    "# reversed number\n",
    "i=10\n",
    "n=int(input(\"number:\"))\n",
    "while i>=n:\n",
    "    print(i)\n",
    "    i=i-2"
   ]
  },
  {
   "cell_type": "code",
   "execution_count": 19,
   "id": "b55dd489",
   "metadata": {},
   "outputs": [
    {
     "name": "stdout",
     "output_type": "stream",
     "text": [
      "Enter here:7\n",
      "7\n",
      "6\n",
      "5\n",
      "4\n",
      "3\n",
      "2\n",
      "1\n"
     ]
    }
   ],
   "source": [
    "# to print rev number string:\n",
    "n=int(input(\"Enter here:\"))\n",
    "i=1\n",
    "while n>=i:\n",
    "    print(n)\n",
    "    n=n-1"
   ]
  },
  {
   "cell_type": "code",
   "execution_count": 34,
   "id": "f5496aae",
   "metadata": {},
   "outputs": [
    {
     "name": "stdout",
     "output_type": "stream",
     "text": [
      "Enter the number for sum:5\n",
      "sum=15\n"
     ]
    }
   ],
   "source": [
    "# Python Program to Find Sum of First n Natural Numbers:\n",
    "n=int(input(\"Enter the number for sum:\"))\n",
    "i=1\n",
    "sum=0\n",
    "while i<=n:\n",
    "    sum=sum+i\n",
    "    i=i+1\n",
    "print(f\"sum={sum}\")"
   ]
  },
  {
   "cell_type": "code",
   "execution_count": null,
   "id": "1f7e9d53",
   "metadata": {},
   "outputs": [],
   "source": [
    "# Python Program to Find Sum of Square of First n Natural Numbers\n",
    "n=int(input(\"Enter the number for squared sum:\"))\n",
    "i=0\n",
    "sum=0\n",
    "while(i<=n):\n",
    "    sum=sum+(i*i)\n",
    "    i=i+1\n",
    "print(\"Squared sum is =\",sum)"
   ]
  },
  {
   "cell_type": "code",
   "execution_count": 49,
   "id": "f24acfe0",
   "metadata": {},
   "outputs": [
    {
     "name": "stdout",
     "output_type": "stream",
     "text": [
      "Enter number for cubed sum2\n",
      "Cubed sum is = 9\n"
     ]
    }
   ],
   "source": [
    "# Python Program to Find Sum of cube of First n Natural Numbers\n",
    "n=int(input(\"Enter number for cubed sum\"))\n",
    "i=1\n",
    "sum=0\n",
    "while i<=n:\n",
    "    sum=sum+(i*i*i)\n",
    "    i=i+1\n",
    "print(\"Cubed sum is =\",sum)"
   ]
  },
  {
   "cell_type": "code",
   "execution_count": 53,
   "id": "c297a1e7",
   "metadata": {},
   "outputs": [
    {
     "name": "stdout",
     "output_type": "stream",
     "text": [
      "Enter number:20\n",
      "Even numbers are 2\n",
      "Even numbers are 4\n",
      "Even numbers are 6\n",
      "Even numbers are 8\n",
      "Even numbers are 10\n",
      "Even numbers are 12\n",
      "Even numbers are 14\n",
      "Even numbers are 16\n",
      "Even numbers are 18\n",
      "Even numbers are 20\n"
     ]
    }
   ],
   "source": [
    "# Python Program to Print Even Numbers from 1 to N\n",
    "n=int(input(\"Enter number:\"))\n",
    "i=1\n",
    "while i<=n:\n",
    "    if i%2==0:\n",
    "        print(\"Even numbers are\",i)\n",
    "    i=i+1"
   ]
  },
  {
   "cell_type": "code",
   "execution_count": 54,
   "id": "323e0282",
   "metadata": {},
   "outputs": [
    {
     "name": "stdout",
     "output_type": "stream",
     "text": [
      "enter even number:20\n",
      "2\n",
      "4\n",
      "6\n",
      "8\n",
      "10\n",
      "12\n",
      "14\n",
      "16\n",
      "18\n",
      "20\n"
     ]
    }
   ],
   "source": [
    "i=2\n",
    "n=int(input(\"enter even number:\"))\n",
    "while n>=i:\n",
    "    print(i)\n",
    "    i=i+2"
   ]
  },
  {
   "cell_type": "code",
   "execution_count": 6,
   "id": "b7b0eaea",
   "metadata": {},
   "outputs": [
    {
     "name": "stdout",
     "output_type": "stream",
     "text": [
      "Enter:6\n",
      "Even number are: 2\n",
      "Even number are: 4\n",
      "Even number are: 6\n",
      "Even number sums is: 12\n"
     ]
    }
   ],
   "source": [
    "# Python Program to find Sum of Even Numbers from 1 to N:\n",
    "n=int(input(\"Enter:\"))\n",
    "i=2\n",
    "sum=0\n",
    "while n>=i:\n",
    "    print(\"Even number are:\",i)\n",
    "    sum=sum+i\n",
    "    i=i+2\n",
    "print(\"Even number sums is:\",sum)"
   ]
  },
  {
   "cell_type": "code",
   "execution_count": 5,
   "id": "5a88557f",
   "metadata": {},
   "outputs": [
    {
     "name": "stdout",
     "output_type": "stream",
     "text": [
      "Enter num:6\n",
      "12\n"
     ]
    }
   ],
   "source": [
    "n=int(input(\"Enter num:\"))\n",
    "i=1\n",
    "sum=0\n",
    "while(i<=n):\n",
    "    if(i%2==0):\n",
    "        sum=sum+i\n",
    "    i=i+1\n",
    "print(sum)"
   ]
  },
  {
   "cell_type": "code",
   "execution_count": 63,
   "id": "e52c7b23",
   "metadata": {},
   "outputs": [
    {
     "name": "stdout",
     "output_type": "stream",
     "text": [
      "Enter number for sum of first even number:3\n",
      "Sum= 12\n",
      "Count 4\n"
     ]
    }
   ],
   "source": [
    "# Python Program to find Sum of First N Even Numbers\n",
    "n=int(input(\"Enter number for sum of first even number:\"))\n",
    "i=0\n",
    "sum=0\n",
    "count=0\n",
    "while (count<=n):\n",
    "    if (i%2==0):\n",
    "        sum=sum+i\n",
    "        count=count+1\n",
    "    i=i+1\n",
    "print(\"Sum=\",sum)\n",
    "print(\"Count\",count)"
   ]
  },
  {
   "cell_type": "code",
   "execution_count": 14,
   "id": "d55393ba",
   "metadata": {},
   "outputs": [
    {
     "name": "stdout",
     "output_type": "stream",
     "text": [
      "Enter the number:556\n",
      "Sum = 16\n"
     ]
    }
   ],
   "source": [
    "# Python Program to find Sum of digits of a given Number \n",
    "n=int(input(\"Enter the number:\"))\n",
    "sum=0\n",
    "while n>0:\n",
    "    sum=n%10+sum\n",
    "    n=n//10\n",
    "print(\"Sum =\",sum)"
   ]
  },
  {
   "cell_type": "code",
   "execution_count": 10,
   "id": "016747de",
   "metadata": {},
   "outputs": [
    {
     "name": "stdout",
     "output_type": "stream",
     "text": [
      "Enter the number:245\n",
      "Sum 45\n"
     ]
    }
   ],
   "source": [
    "# Python Program to find Sum of Square of digits of a given Number\n",
    "i=int(input(\"Enter the number:\"))\n",
    "sum=0\n",
    "pwr=0\n",
    "while i>0:\n",
    "    pwr=i%10\n",
    "    sum=sum+(pwr * pwr)\n",
    "    i=i//10\n",
    "print(\"Sum\",sum)\n",
    "    "
   ]
  },
  {
   "cell_type": "code",
   "execution_count": 18,
   "id": "ed40598c",
   "metadata": {},
   "outputs": [
    {
     "name": "stdout",
     "output_type": "stream",
     "text": [
      "Enter the number:412\n",
      "8\n",
      "9\n",
      "73\n",
      "Sum = 73\n"
     ]
    }
   ],
   "source": [
    "# Python Program to find Sum of Cube of Digits of a Given Number:\n",
    "i=int(input(\"Enter the number:\"))\n",
    "sum=0\n",
    "while (i>0):\n",
    "    sum=sum+(i%10)*(i%10)*(i%10)\n",
    "    i=i//10\n",
    "    print(sum)\n",
    "print(\"Sum =\",sum)"
   ]
  },
  {
   "cell_type": "code",
   "execution_count": 6,
   "id": "c4c6bf96",
   "metadata": {},
   "outputs": [
    {
     "name": "stdout",
     "output_type": "stream",
     "text": [
      "Enter number to check Armstrong :153\n",
      "The sum of 3 digits is: 153\n",
      "An Armstrong Number: 153\n"
     ]
    }
   ],
   "source": [
    "# Python Armstrong Number Program (For 3 Digit Number)\n",
    "n=int(input(\"Enter number to check Armstrong :\"))\n",
    "i=n\n",
    "sum=0\n",
    "cube=0\n",
    "while (i>0):\n",
    "    cube =(i%10)*(i%10)*(i%10)\n",
    "    sum =sum + cube\n",
    "    i=i//10\n",
    "print(\"The sum of 3 digits is:\",sum)\n",
    "if sum==n:\n",
    "    print(\"An Armstrong Number:\",n)\n",
    "else:\n",
    "     print(\"Not an armstrong number:\",n)"
   ]
  },
  {
   "cell_type": "code",
   "execution_count": 36,
   "id": "cb4b00d0",
   "metadata": {},
   "outputs": [
    {
     "name": "stdout",
     "output_type": "stream",
     "text": [
      "Enter number to check Armstrong :153\n",
      "Count= 3\n",
      "Sum= 153\n",
      "An Armstrong num: 153\n"
     ]
    }
   ],
   "source": [
    "# Python Armstrong Number Program for (Self made :>)-22-11-22\n",
    "n=int(input(\"Enter number to check Armstrong :\"))\n",
    "i=n\n",
    "count=0\n",
    "sum=0\n",
    "while (i>0):\n",
    "    count=count+1\n",
    "    i=i//10\n",
    "print(\"Count=\",count)\n",
    "i=n\n",
    "while(i>0):\n",
    "    sum=sum+(i%10)**count\n",
    "    i=i//10\n",
    "print(\"Sum=\",sum)\n",
    "if sum==n:\n",
    "    print(\"An Armstrong num:\",sum)\n",
    "else:\n",
    "    print(\"Not an armstrong num:\",n)"
   ]
  },
  {
   "cell_type": "code",
   "execution_count": 35,
   "id": "65e1e812",
   "metadata": {},
   "outputs": [
    {
     "name": "stdout",
     "output_type": "stream",
     "text": [
      "Enter the number :20\n",
      "The product of these 20 digit is:0\n"
     ]
    }
   ],
   "source": [
    "#Python Program to Find Product of Digits:\n",
    "n=int(input(\"Enter the number :\"))\n",
    "i=n\n",
    "sum=1\n",
    "while(i>0):\n",
    "    sum=sum*(i%10)\n",
    "    i=i//10\n",
    "print(f\"The product of these {n} digit is:{sum}\")"
   ]
  },
  {
   "cell_type": "code",
   "execution_count": 17,
   "id": "721fadb7",
   "metadata": {},
   "outputs": [
    {
     "name": "stdout",
     "output_type": "stream",
     "text": [
      "Enter the number:456\n",
      "Reversed: 654\n"
     ]
    }
   ],
   "source": [
    "# Python Program to Reverse of a Number:\n",
    "n=int(input(\"Enter the number:\"))\n",
    "rev=0\n",
    "while(n>0):\n",
    "    rev=(rev*10)+n%10\n",
    "    n=n//10\n",
    "print(\"Reversed:\",rev)"
   ]
  },
  {
   "cell_type": "code",
   "execution_count": 9,
   "id": "4d8aa18f",
   "metadata": {},
   "outputs": [
    {
     "name": "stdout",
     "output_type": "stream",
     "text": [
      "Enter the number:9852589\n",
      "9852589\n",
      "Number is palindrome: 9852589\n"
     ]
    }
   ],
   "source": [
    "#Python Program to Check a Number is Palindrome or Not\n",
    "n=int(input(\"Enter the number:\"))\n",
    "i=n\n",
    "rev=0\n",
    "while(i>0):\n",
    "    rev=(rev*10)+i%10\n",
    "    i=i//10\n",
    "print(rev)\n",
    "if (n==rev):\n",
    "    print(\"Number is palindrome:\",n)\n",
    "else:\n",
    "    print(\"Not palindrome:\",n)"
   ]
  },
  {
   "cell_type": "code",
   "execution_count": 24,
   "id": "5eab0c55",
   "metadata": {},
   "outputs": [
    {
     "name": "stdout",
     "output_type": "stream",
     "text": [
      "Enter the number :7\n",
      "Count = 2\n",
      "Prime number: 7\n"
     ]
    }
   ],
   "source": [
    "#Prime Number in Python:\n",
    "n=int(input(\"Enter the number :\"))\n",
    "i=1\n",
    "count=0\n",
    "while(i<=n):\n",
    "    if(n%i==0):\n",
    "        count=count+1\n",
    "    i=i+1\n",
    "print(\"Count =\",count)\n",
    "if (count>=2):\n",
    "    print(\"Prime number:\",n)\n",
    "else: \n",
    "    print(\"Not a prime number:\",n)"
   ]
  },
  {
   "cell_type": "code",
   "execution_count": 5,
   "id": "f1966704",
   "metadata": {},
   "outputs": [
    {
     "name": "stdout",
     "output_type": "stream",
     "text": [
      "Enter the number:4\n",
      "Factorial of 4 is 24\n"
     ]
    }
   ],
   "source": [
    "# Factorial Program in Python :\n",
    "n=int(input(\"Enter the number:\"))\n",
    "i=n\n",
    "fact=1\n",
    "while(n>0):\n",
    "    fact=fact*n\n",
    "    n=n-1     \n",
    "print(f\"Factorial of {i} is {fact}\")"
   ]
  },
  {
   "cell_type": "code",
   "execution_count": 2,
   "id": "e94ee33b",
   "metadata": {},
   "outputs": [
    {
     "name": "stdout",
     "output_type": "stream",
     "text": [
      "Enter number:10\n",
      "0\n",
      "1\n",
      "1\n",
      "2\n",
      "3\n",
      "5\n",
      "8\n"
     ]
    }
   ],
   "source": [
    "# Python Program to Print Fibonacci Series:\n",
    "n=int(input(\"Enter number:\"))\n",
    "i=n\n",
    "x=0\n",
    "y=1\n",
    "z=0\n",
    "while(z<=n):\n",
    "        print(z)\n",
    "        x=y\n",
    "        y=z\n",
    "        z=x+y"
   ]
  },
  {
   "cell_type": "code",
   "execution_count": 31,
   "id": "18b0eaec",
   "metadata": {},
   "outputs": [
    {
     "name": "stdout",
     "output_type": "stream",
     "text": [
      "* \n",
      "* * \n",
      "* * * \n",
      "* * * * \n",
      "* * * * * \n"
     ]
    }
   ],
   "source": [
    "\"\"\" #A\n",
    "        *\n",
    "        * *\n",
    "        * * *\n",
    "        * * * *\n",
    "        * * * * *\n",
    "\"\"\"\n",
    "i=1\n",
    "while(i<=5):\n",
    "    j=1\n",
    "    while(j<=i):\n",
    "        print(\"* \",end=\"\")\n",
    "        j=j+1\n",
    "    print()\n",
    "    i+=1"
   ]
  },
  {
   "cell_type": "code",
   "execution_count": 20,
   "id": "bebf439e",
   "metadata": {},
   "outputs": [
    {
     "name": "stdout",
     "output_type": "stream",
     "text": [
      "1 \n",
      "2 2 \n",
      "3 3 3 \n",
      "4 4 4 4 \n",
      "5 5 5 5 5 \n"
     ]
    }
   ],
   "source": [
    " \"\"\"  # B\n",
    "    1 \n",
    "    2 2 \n",
    "    3 3 3 \n",
    "    4 4 4 4 \n",
    "    5 5 5 5 5 \n",
    " \"\"\"\n",
    "i=1\n",
    "while(i<=5):\n",
    "    j=1\n",
    "    while(j<=i):\n",
    "        print(i,end=\" \")\n",
    "        j=j+1\n",
    "    print()\n",
    "    i=i+1    "
   ]
  },
  {
   "cell_type": "code",
   "execution_count": 22,
   "id": "f18ae151",
   "metadata": {},
   "outputs": [
    {
     "name": "stdout",
     "output_type": "stream",
     "text": [
      "1 \n",
      "1 2 \n",
      "1 2 3 \n",
      "1 2 3 4 \n",
      "1 2 3 4 5 \n"
     ]
    }
   ],
   "source": [
    "\"\"\"  #C\n",
    "    1 \n",
    "    1 2 \n",
    "    1 2 3 \n",
    "    1 2 3 4 \n",
    "    1 2 3 4 5 \n",
    "\"\"\"\n",
    "i=1\n",
    "while(i<=5):\n",
    "    j=1\n",
    "    while(j<=i):\n",
    "        print(j,end=\" \")\n",
    "        j+=1\n",
    "    print()\n",
    "    i+=1"
   ]
  },
  {
   "cell_type": "code",
   "execution_count": 39,
   "id": "7372fcbc",
   "metadata": {},
   "outputs": [
    {
     "name": "stdout",
     "output_type": "stream",
     "text": [
      "2 \n",
      "3 4 \n",
      "4 5 6 \n",
      "5 6 7 8 \n",
      "6 7 8 9 10 \n"
     ]
    }
   ],
   "source": [
    "\"\"\"  #D\n",
    "        2 \n",
    "        3 4 \n",
    "        4 5 6 \n",
    "        5 6 7 8 \n",
    "        6 7 8 9 10 \n",
    "\n",
    "\"\"\"\n",
    "i=1\n",
    "while(i<=5):\n",
    "    j=1\n",
    "    while(j<=i):\n",
    "        print(i+j,end=\" \")\n",
    "        j+=1\n",
    "    print()\n",
    "    i+=1"
   ]
  },
  {
   "cell_type": "code",
   "execution_count": 27,
   "id": "4511055b",
   "metadata": {},
   "outputs": [
    {
     "name": "stdout",
     "output_type": "stream",
     "text": [
      "1 \n",
      "0 1 \n",
      "1 0 1 \n",
      "0 1 0 1 \n",
      "1 0 1 0 1 \n"
     ]
    }
   ],
   "source": [
    "\"\"\" # E\n",
    "1\n",
    "0 1\n",
    "1 0 1\n",
    "0 1 0 1\n",
    "1 0 1 0 1\n",
    "\"\"\"\n",
    "i=1\n",
    "while(i<=5):\n",
    "    j=1\n",
    "    while(j<=i):\n",
    "        if((i+j)%2==0):\n",
    "            print(1,end=\" \")\n",
    "        else:\n",
    "            print(0,end=\" \")\n",
    "        j=j+1\n",
    "    print()\n",
    "    i+=1"
   ]
  },
  {
   "cell_type": "code",
   "execution_count": 38,
   "id": "483ee68b",
   "metadata": {},
   "outputs": [
    {
     "name": "stdout",
     "output_type": "stream",
     "text": [
      "1 \n",
      "2 3 \n",
      "4 5 6 \n",
      "7 8 9 10 \n",
      "11 12 13 14 15 \n"
     ]
    }
   ],
   "source": [
    "\"\"\" #F\n",
    "    1\n",
    "    2 3\n",
    "    4 5 6 \n",
    "    7 8 9 10\n",
    "    11 12 13 14 15 \n",
    "    \"\"\"\n",
    "i=1\n",
    "k=1\n",
    "while(i<=5):\n",
    "    j=1\n",
    "    while(j<=i):\n",
    "        print(k,end=\" \")\n",
    "        j+=1\n",
    "        k=k+1\n",
    "    print()\n",
    "    i=i+1"
   ]
  },
  {
   "cell_type": "code",
   "execution_count": 40,
   "id": "66381f18",
   "metadata": {},
   "outputs": [
    {
     "name": "stdout",
     "output_type": "stream",
     "text": [
      "5 \n",
      "5 4 \n",
      "5 4 3 \n",
      "5 4 3 2 \n",
      "5 4 3 2 1 \n"
     ]
    }
   ],
   "source": [
    "\"\"\" #G \n",
    "    5\n",
    "    5 4 \n",
    "    5 4 3 \n",
    "    5 4 3 2 \n",
    "    5 4 3 2 1\"\"\"\n",
    "i=1\n",
    "while(i<=5):\n",
    "    j=1\n",
    "    k=5\n",
    "    while(j<=i):\n",
    "        print(k,end=\" \")\n",
    "        j=j+1\n",
    "        k-=1\n",
    "    print()\n",
    "    i+=1"
   ]
  },
  {
   "cell_type": "code",
   "execution_count": 3,
   "id": "2393b7a3",
   "metadata": {},
   "outputs": [
    {
     "name": "stdout",
     "output_type": "stream",
     "text": [
      "5 \n",
      "4 4 \n",
      "3 3 3 \n",
      "2 2 2 2 \n",
      "1 1 1 1 1 \n"
     ]
    }
   ],
   "source": [
    "\"\"\" #H \n",
    "    5\n",
    "    4 4\n",
    "    3 3 3\n",
    "    2 2 2 2\n",
    "    1 1 1 1 1 \"\"\"\n",
    "i=1 \n",
    "k=5\n",
    "while(i<=5):\n",
    "    j=1\n",
    "    while(j<=i):\n",
    "        print(k,end=' ')\n",
    "        j=j+1\n",
    "    print()\n",
    "    i=i+1\n",
    "    k=k-1\n",
    "    "
   ]
  },
  {
   "cell_type": "code",
   "execution_count": 12,
   "id": "16fd5c7b",
   "metadata": {},
   "outputs": [
    {
     "name": "stdout",
     "output_type": "stream",
     "text": [
      "* * * * * \n",
      "* * * * \n",
      "* * * \n",
      "* * \n",
      "* \n"
     ]
    }
   ],
   "source": [
    "\"\"\" #(i)\n",
    "    * * * * *\n",
    "    * * * *\n",
    "    * * *\n",
    "    * *\n",
    "    *    \n",
    "         \"\"\"\n",
    "i=5 \n",
    "while(i>=1):\n",
    "    j=i\n",
    "    while(j>=1):\n",
    "        print(\"*\",end=\" \")\n",
    "        j=j-1\n",
    "    print()\n",
    "    i=i-1\n"
   ]
  },
  {
   "cell_type": "code",
   "execution_count": 14,
   "id": "feb98b5b",
   "metadata": {},
   "outputs": [
    {
     "name": "stdout",
     "output_type": "stream",
     "text": [
      "1 1 1 1 1 \n",
      "2 2 2 2 \n",
      "3 3 3 \n",
      "4 4 \n",
      "5 \n"
     ]
    }
   ],
   "source": [
    "\"\"\"  #(J)\n",
    "    1 1 1 1 1\n",
    "    2 2 2 2\n",
    "    3 3 3\n",
    "    4 4\n",
    "    5 \"\"\"\n",
    "i=5 \n",
    "k=1\n",
    "while(i>=1):\n",
    "    j=i\n",
    "    while(j>=1):\n",
    "        print(k,end=\" \")\n",
    "        j=j-1\n",
    "    print()\n",
    "    k+=1\n",
    "    i-=1"
   ]
  },
  {
   "cell_type": "code",
   "execution_count": 28,
   "id": "ba436cdf",
   "metadata": {},
   "outputs": [
    {
     "name": "stdout",
     "output_type": "stream",
     "text": [
      "1 2 3 4 5 \n",
      "1 2 3 4 \n",
      "1 2 3 \n",
      "1 2 \n",
      "1 \n"
     ]
    }
   ],
   "source": [
    "\"\"\" #(K)\n",
    "    1 2 3 4 5\n",
    "    1 2 3 4\n",
    "    1 2 3\n",
    "    1 2\n",
    "    1 \"\"\"\n",
    "i=5\n",
    "k=0\n",
    "while(i>=1):\n",
    "    j=i\n",
    "    while(j>=1):\n",
    "        print(k+1,end=\" \")\n",
    "        j=j-1\n",
    "        k=k+1\n",
    "    print()\n",
    "    k=k-i\n",
    "    i-=1"
   ]
  },
  {
   "cell_type": "code",
   "execution_count": 29,
   "id": "10746d8a",
   "metadata": {},
   "outputs": [
    {
     "name": "stdout",
     "output_type": "stream",
     "text": [
      "5 5 5 5 5 \n",
      "4 4 4 4 \n",
      "3 3 3 \n",
      "2 2 \n",
      "1 \n"
     ]
    }
   ],
   "source": [
    "\"\"\" #(L)\n",
    "    5 5 5 5 5\n",
    "    4 4 4 4\n",
    "    3 3 3\n",
    "    2 2\n",
    "    1 \"\"\"\n",
    "i=5 \n",
    "k=6\n",
    "while(i>=1):\n",
    "    j=i\n",
    "    while(j>=1):\n",
    "        print(k-1,end=\" \")\n",
    "        j=j-1\n",
    "    print()\n",
    "    k=k-1\n",
    "    i=i-1"
   ]
  },
  {
   "cell_type": "code",
   "execution_count": 36,
   "id": "7a759098",
   "metadata": {},
   "outputs": [
    {
     "name": "stdout",
     "output_type": "stream",
     "text": [
      "5 4 3 2 1 \n",
      "5 4 3 2 \n",
      "5 4 3 \n",
      "5 4 \n",
      "5 \n"
     ]
    }
   ],
   "source": [
    "\"\"\" #(M)\n",
    "    5 4 3 2 1\n",
    "    5 4 3 2\n",
    "    5 4 3\n",
    "    5 4 \n",
    "    5   \"\"\"\n",
    "i=5\n",
    "k=5\n",
    "while(i>=1):\n",
    "    j=i\n",
    "    l=k\n",
    "    while(j>=1):\n",
    "        print(l,end=\" \")\n",
    "        l=l-1\n",
    "        j=j-1\n",
    "    print()\n",
    "    i=i-1"
   ]
  },
  {
   "cell_type": "code",
   "execution_count": 28,
   "id": "a3b965f4",
   "metadata": {},
   "outputs": [
    {
     "name": "stdout",
     "output_type": "stream",
     "text": [
      "    * \n",
      "   * * \n",
      "  * * * \n",
      " * * * * \n",
      "* * * * * \n"
     ]
    }
   ],
   "source": [
    "\"\"\"   #(N)\n",
    "         *\n",
    "        * *\n",
    "       * * *\n",
    "      * * * *\n",
    "     * * * * *\n",
    "                 \"\"\"\n",
    "i=1\n",
    "k=1\n",
    "while(i<=5):\n",
    "    l=1\n",
    "    while(l<=5-i):\n",
    "        print(\" \",end=\"\")\n",
    "        l=l+1\n",
    "    j=1\n",
    "    while(j<=k):\n",
    "        print(\"*\",end=\" \")\n",
    "        j=j+1\n",
    "    print()\n",
    "    k=k+1\n",
    "    i=i+1"
   ]
  },
  {
   "cell_type": "code",
   "execution_count": 27,
   "id": "eb631a56",
   "metadata": {},
   "outputs": [
    {
     "name": "stdout",
     "output_type": "stream",
     "text": [
      "    1 \n",
      "   1 2 \n",
      "  1 2 3 \n",
      " 1 2 3 4 \n",
      "1 2 3 4 5 \n"
     ]
    }
   ],
   "source": [
    "\"\"\"  #(O)\n",
    "    1\n",
    "   1 2\n",
    "  1 2 3\n",
    " 1 2 3 4\n",
    "1 2 3 4 5 \"\"\"\n",
    "\n",
    "i=1\n",
    "k=1\n",
    "while(i<=5):\n",
    "    j=1\n",
    "    while(j<=5-i):\n",
    "        print(\" \",end=\"\")\n",
    "        j=j+1\n",
    "    l=1\n",
    "    while(l<=k):\n",
    "        print(l,end=\" \")\n",
    "        l=l+1\n",
    "    print()\n",
    "    k+=1\n",
    "    i+=1"
   ]
  },
  {
   "cell_type": "code",
   "execution_count": 2,
   "id": "cb68c5f3",
   "metadata": {},
   "outputs": [
    {
     "name": "stdout",
     "output_type": "stream",
     "text": [
      "    *\n",
      "   **\n",
      "  ***\n",
      " ****\n",
      "*****\n"
     ]
    }
   ],
   "source": [
    "\"\"\"   #(P)\n",
    "         *\n",
    "        **\n",
    "       ***\n",
    "      ****\n",
    "     *****\n",
    "             \"\"\"\n",
    "i=1\n",
    "while(i<=5):\n",
    "    j=1\n",
    "    while(j<=5-i):\n",
    "        print(\" \",end=\"\")\n",
    "        j=j+1\n",
    "    l=1\n",
    "    while(l<=i):\n",
    "        print(\"*\",end=\"\")\n",
    "        l=l+1\n",
    "    print()\n",
    "    i=i+1"
   ]
  },
  {
   "cell_type": "code",
   "execution_count": 4,
   "id": "42aa25cf",
   "metadata": {},
   "outputs": [
    {
     "name": "stdout",
     "output_type": "stream",
     "text": [
      "    1\n",
      "   12\n",
      "  123\n",
      " 1234\n",
      "12345\n"
     ]
    }
   ],
   "source": [
    "\"\"\"  #(Q)\n",
    "    1\n",
    "   12\n",
    "  123\n",
    " 1234\n",
    "12345 \"\"\"\n",
    "i=1\n",
    "while(i<=5):\n",
    "    j=1\n",
    "    while(j<=5-i):\n",
    "        print(\" \",end=\"\")\n",
    "        j=j+1\n",
    "    l=1\n",
    "    while(l<=i):\n",
    "        print(l,end=\"\")\n",
    "        l=l+1\n",
    "    print()\n",
    "    i=i+1"
   ]
  },
  {
   "cell_type": "code",
   "execution_count": 33,
   "id": "2666fb79",
   "metadata": {},
   "outputs": [
    {
     "name": "stdout",
     "output_type": "stream",
     "text": [
      "    *\n",
      "   ***\n",
      "  *****\n",
      " *******\n",
      "*********\n"
     ]
    }
   ],
   "source": [
    "\"\"\"   #(R)\n",
    "         *\n",
    "        ***\n",
    "       *****\n",
    "      *******\n",
    "     *********\n",
    "                 \"\"\"\n",
    "i=1\n",
    "k=1\n",
    "while(i<=5):\n",
    "    j=1\n",
    "    while(j<=5-i):\n",
    "        print(\" \",end=\"\")\n",
    "        j=j+1\n",
    "    l=1\n",
    "    while(l<=k):\n",
    "        print(\"*\",end=\"\")\n",
    "        l=l+1\n",
    "    print()\n",
    "    k+=2\n",
    "    i+=1"
   ]
  },
  {
   "cell_type": "code",
   "execution_count": 37,
   "id": "7d253658",
   "metadata": {},
   "outputs": [
    {
     "name": "stdout",
     "output_type": "stream",
     "text": [
      "    1\n",
      "   222\n",
      "  33333\n",
      " 4444444\n",
      "555555555\n"
     ]
    }
   ],
   "source": [
    "\"\"\" #(S)\n",
    "    1\n",
    "   222\n",
    "  33333\n",
    " 4444444\n",
    "555555555\n",
    "\"\"\"\n",
    "i=1\n",
    "k=1\n",
    "while(i<=5):\n",
    "    j=1\n",
    "    while(j<=5-i):\n",
    "        print(\" \",end=\"\")\n",
    "        j=j+1\n",
    "    l=1\n",
    "    while(l<=k):\n",
    "        print(i,end=\"\")\n",
    "        l=l+1\n",
    "    print()\n",
    "    k=k+2\n",
    "    i=i+1"
   ]
  },
  {
   "cell_type": "code",
   "execution_count": 54,
   "id": "4c45528d",
   "metadata": {},
   "outputs": [
    {
     "name": "stdout",
     "output_type": "stream",
     "text": [
      "    1\n",
      "   123\n",
      "  12345\n",
      " 1234567\n",
      "123456789\n"
     ]
    }
   ],
   "source": [
    "\"\"\" #(T)\n",
    "    1\n",
    "   123 \n",
    "  12345\n",
    " 1234567\n",
    "123456789\n",
    "\"\"\"\n",
    "i=1\n",
    "k=1\n",
    "while(i<=5):\n",
    "    j=1\n",
    "    while(j<=5-i):\n",
    "        print(\" \",end=\"\")\n",
    "        j=j+1\n",
    "    l=1\n",
    "    while(l<=k):\n",
    "        print(l,end=\"\")\n",
    "        l=l+1\n",
    "    print()\n",
    "    k=k+2\n",
    "    i=i+1"
   ]
  },
  {
   "cell_type": "code",
   "execution_count": 8,
   "id": "b18cf4cc",
   "metadata": {},
   "outputs": [
    {
     "name": "stdout",
     "output_type": "stream",
     "text": [
      "Enter the number:5\n",
      "        * \n",
      "      * * * \n",
      "    * * * * * \n",
      "  * * * * * * * \n",
      "* * * * * * * * * \n"
     ]
    }
   ],
   "source": [
    "\"\"\"   #(U)\n",
    "            *\n",
    "          * * *\n",
    "        * * * * *\n",
    "       * * * * * * \n",
    "     * * * * * * * * \n",
    "                 \"\"\"\n",
    "n=int(input(\"Enter the number:\"))\n",
    "i=1\n",
    "k=1\n",
    "while(i<=n):\n",
    "    j=1\n",
    "    while(j<=n-i):\n",
    "        print(\" \",end=\" \")\n",
    "        j=j+1\n",
    "    l=1\n",
    "    while(l<=k):\n",
    "        print(\"*\",end=\" \")\n",
    "        l=l+1\n",
    "    print()\n",
    "    k=k+2\n",
    "    i=i+1"
   ]
  },
  {
   "cell_type": "code",
   "execution_count": 49,
   "id": "8e5db8d5",
   "metadata": {},
   "outputs": [
    {
     "name": "stdout",
     "output_type": "stream",
     "text": [
      "    1\n",
      "   232\n",
      "  34543\n",
      " 4567654\n",
      "567898765\n"
     ]
    }
   ],
   "source": [
    "\"\"\"\"  (#V)\n",
    "     1\n",
    "    232\n",
    "   34543\n",
    "  4567654\n",
    " 567898765  \"\"\"\n",
    "i=1 \n",
    "while(i<=5):\n",
    "    j=1\n",
    "    while(j<=5-i):\n",
    "        print(\" \",end=\"\")\n",
    "        j=j+1\n",
    "    l=1   \n",
    "    k=i\n",
    "    while(l<=i):\n",
    "        print(k,end=\"\")\n",
    "        l=l+1\n",
    "        k=k+1\n",
    "    a=i-1\n",
    "    while(a>=1):\n",
    "        print((a+i)-1,end=\"\")\n",
    "        a=a-1\n",
    "    print()\n",
    "    k=k+1\n",
    "    i=i+1"
   ]
  },
  {
   "cell_type": "code",
   "execution_count": 52,
   "id": "d57a67eb",
   "metadata": {},
   "outputs": [
    {
     "name": "stdout",
     "output_type": "stream",
     "text": [
      "    5\n",
      "   545\n",
      "  54345\n",
      " 5432345\n",
      "543212345\n"
     ]
    }
   ],
   "source": [
    "\"\"\"\"  (#W)\n",
    "     5\n",
    "    545\n",
    "   54345\n",
    "  5432345\n",
    " 543212345  \"\"\"\n",
    "i=1\n",
    "while(i<=5):\n",
    "    j=1\n",
    "    while(j<=5-i):\n",
    "        print(\" \",end=\"\")\n",
    "        j=j+1\n",
    "    l=1\n",
    "    q=6\n",
    "    while(l<=i):\n",
    "        print(q-1,end=\"\")\n",
    "        l=l+1\n",
    "        q=q-1\n",
    "    a=q+1\n",
    "    while(a<=5):\n",
    "        print(a,end=\"\")\n",
    "        a=a+1\n",
    "    print()\n",
    "    i=i+1"
   ]
  },
  {
   "cell_type": "code",
   "execution_count": 10,
   "id": "4e700089",
   "metadata": {},
   "outputs": [
    {
     "name": "stdout",
     "output_type": "stream",
     "text": [
      "Enter the rows:5\n",
      "*********\n",
      " *******\n",
      "  *****\n",
      "   ***\n",
      "    *\n"
     ]
    }
   ],
   "source": [
    "\"\"\" (X)\n",
    "   *********\n",
    "    *******\n",
    "     *****\n",
    "      ***\n",
    "       *   \"\"\"\n",
    "n=int(input(\"Enter the rows:\"))\n",
    "i=1\n",
    "while(n>0):\n",
    "    j=1\n",
    "    while(j<i):\n",
    "        print(\" \",end='')\n",
    "        j=j+1\n",
    "    l=1\n",
    "    while(l<=(n*2)-1):\n",
    "        print(\"*\",end=\"\")\n",
    "        l=l+1\n",
    "    print()\n",
    "    i=i+1\n",
    "    n=n-1"
   ]
  },
  {
   "cell_type": "code",
   "execution_count": 16,
   "id": "197efe04",
   "metadata": {},
   "outputs": [
    {
     "name": "stdout",
     "output_type": "stream",
     "text": [
      "555555555\n",
      " 4444444\n",
      "  33333\n",
      "   222\n",
      "    1\n"
     ]
    }
   ],
   "source": [
    "\"\"\" (Y)\n",
    "     555555555\n",
    "      4444444\n",
    "       33333\n",
    "        222\n",
    "         1   \"\"\"\n",
    "i=5\n",
    "k=1\n",
    "while(k<=5):\n",
    "    j=1\n",
    "    while(j<k):\n",
    "        print(\" \",end=\"\")\n",
    "        j=j+1\n",
    "    l=1\n",
    "    while(l<=(i*2)-1):\n",
    "        print(i,end=\"\")\n",
    "        l=l+1\n",
    "    print()\n",
    "    i=i-1\n",
    "    k=k+1"
   ]
  },
  {
   "cell_type": "code",
   "execution_count": 20,
   "id": "d483248f",
   "metadata": {},
   "outputs": [
    {
     "name": "stdout",
     "output_type": "stream",
     "text": [
      "123456789\n",
      " 1234567\n",
      "  12345\n",
      "   123\n",
      "    1\n"
     ]
    }
   ],
   "source": [
    "\"\"\" #(Z)\n",
    "     123456789\n",
    "      1234567\n",
    "       12345      \n",
    "        123\n",
    "         1\n",
    "        \"\"\"\n",
    "i=5\n",
    "k=1\n",
    "while(k<=5):\n",
    "    j=1\n",
    "    while(j<k):\n",
    "        print(\" \",end=\"\")\n",
    "        j=j+1\n",
    "    l=1\n",
    "    while(l<=(i*2)-1):\n",
    "        print(l,end=\"\")\n",
    "        l=l+1\n",
    "    print()\n",
    "    i=i-1\n",
    "    k=k+1"
   ]
  },
  {
   "cell_type": "code",
   "execution_count": 11,
   "id": "2f57bf14",
   "metadata": {},
   "outputs": [
    {
     "name": "stdout",
     "output_type": "stream",
     "text": [
      "567898765\n",
      " 4567654\n",
      "  34543\n",
      "   232\n",
      "    1\n"
     ]
    }
   ],
   "source": [
    "\"\"\"  #(Z1)\n",
    "        567898765\n",
    "         4567654\n",
    "          34543\n",
    "           232\n",
    "            1   \"\"\"\n",
    "\n",
    "i=5\n",
    "k=1\n",
    "while(k<=5):\n",
    "    j=1\n",
    "    while(j<k):\n",
    "        print(\" \",end=\"\")\n",
    "        j=j+1\n",
    "    l=1\n",
    "    b=i\n",
    "    while(l<=i):\n",
    "        print(b,end=\"\")\n",
    "        l=l+1\n",
    "        b=b+1\n",
    "    a=i-1\n",
    "    while(a>=1):\n",
    "        print((a+i)-1,end=\"\")\n",
    "        a=a-1\n",
    "    print()\n",
    "    i=i-1\n",
    "    k=k+1"
   ]
  },
  {
   "cell_type": "code",
   "execution_count": 37,
   "id": "46361614",
   "metadata": {},
   "outputs": [
    {
     "name": "stdout",
     "output_type": "stream",
     "text": [
      "543212345\n",
      " 5432345\n",
      "  54345\n",
      "   545\n",
      "    5\n"
     ]
    }
   ],
   "source": [
    "\"\"\" #(Z2)\n",
    "    543212345\n",
    "     5432345\n",
    "      54345\n",
    "       545 \n",
    "        5   \"\"\"\n",
    "i=5\n",
    "k=1\n",
    "while(k<=5):\n",
    "    j=1\n",
    "    while(j<k):\n",
    "        print(\" \",end=\"\")\n",
    "        j=j+1\n",
    "    l=1\n",
    "    b=5\n",
    "    while(l<=i):\n",
    "        print(b,end=\"\")\n",
    "        b=b-1\n",
    "        l=l+1\n",
    "    a=k\n",
    "    while(a<=(i+k)-2):\n",
    "        print(a+1,end=\"\")\n",
    "        a=a+1\n",
    "    print()\n",
    "    i=i-1\n",
    "    k=k+1"
   ]
  },
  {
   "cell_type": "code",
   "execution_count": 33,
   "id": "4a2384ca",
   "metadata": {},
   "outputs": [
    {
     "name": "stdout",
     "output_type": "stream",
     "text": [
      "    *\n",
      "   ***\n",
      "  *****\n",
      " *******\n",
      "*********\n",
      " *******\n",
      "  *****\n",
      "   ***\n",
      "    *\n"
     ]
    }
   ],
   "source": [
    "\"\"\"   #(Z3)\n",
    "        *\n",
    "       ***\n",
    "      *****\n",
    "     *******\n",
    "    *********\n",
    "     *******\n",
    "      *****\n",
    "       ***\n",
    "        *  \"\"\"\n",
    "i=1\n",
    "k=1\n",
    "while(i<=5):\n",
    "    j=1\n",
    "    while(j<=5-i):\n",
    "        print(\" \",end=\"\")\n",
    "        j=j+1\n",
    "    l=1\n",
    "    while(l<=k):\n",
    "        print(\"*\",end=\"\")\n",
    "        l=l+1\n",
    "    print()\n",
    "    i=i+1\n",
    "    k=k+2\n",
    "m=1\n",
    "p=7\n",
    "while(p>=1):\n",
    "    t=1\n",
    "    while(t<=m):\n",
    "        print(\" \",end=\"\")\n",
    "        t=t+1\n",
    "    o=1\n",
    "    while(o<=p):\n",
    "        print(\"*\",end=\"\")\n",
    "        o=o+1\n",
    "    print()\n",
    "    p=p-2\n",
    "    m=m+1"
   ]
  },
  {
   "cell_type": "code",
   "execution_count": 32,
   "id": "db47a53d",
   "metadata": {},
   "outputs": [
    {
     "name": "stdout",
     "output_type": "stream",
     "text": [
      "    1\n",
      "   222\n",
      "  33333\n",
      " 4444444\n",
      "555555555\n",
      " 4444444\n",
      "  33333\n",
      "   222\n",
      "    1\n"
     ]
    }
   ],
   "source": [
    "\"\"\"     1\n",
    "       222\n",
    "      33333\n",
    "     4444444\n",
    "    555555555\n",
    "     4444444\n",
    "      33333\n",
    "       222\n",
    "        1  \"\"\"\n",
    "\n",
    "i=1\n",
    "k=1\n",
    "while(i<=5):\n",
    "    j=1\n",
    "    while(j<=5-i):\n",
    "        print(\" \",end=\"\")\n",
    "        j=j+1\n",
    "    l=1\n",
    "    while(l<=k):\n",
    "        print(i,end=\"\")\n",
    "        l=l+1\n",
    "    print()\n",
    "    i=i+1\n",
    "    k=k+2\n",
    "m=7\n",
    "p=1\n",
    "t=4\n",
    "while(m>=1):\n",
    "    q=1\n",
    "    while(q<=p):\n",
    "        print(\" \",end=\"\")\n",
    "        q=q+1\n",
    "    g=1\n",
    "    while(g<=m):\n",
    "        print(t,end=\"\")\n",
    "        g=g+1\n",
    "    print()\n",
    "    m=m-2\n",
    "    p=p+1\n",
    "    t=t-1"
   ]
  },
  {
   "cell_type": "code",
   "execution_count": 36,
   "id": "b02949fc",
   "metadata": {},
   "outputs": [
    {
     "name": "stdout",
     "output_type": "stream",
     "text": [
      "    1\n",
      "   123\n",
      "  12345\n",
      " 1234567\n",
      "123456789\n",
      " 1234567\n",
      "  12345\n",
      "   123\n",
      "    1\n"
     ]
    }
   ],
   "source": [
    "\"\"\" #(Z4)\n",
    "    1\n",
    "   123\n",
    "  12345\n",
    " 1234567\n",
    "123456789\n",
    " 1234567\n",
    "  12345\n",
    "   123\n",
    "    1    \"\"\"\n",
    "    \n",
    "i=1\n",
    "k=1\n",
    "while(i<=5):\n",
    "    j=1\n",
    "    while(j<=5-i):\n",
    "        print(\" \",end=\"\")\n",
    "        j=j+1\n",
    "    l=1\n",
    "    while(l<=k):\n",
    "        print(l,end=\"\")\n",
    "        l=l+1\n",
    "    print()\n",
    "    i=i+1\n",
    "    k=k+2\n",
    "m=7\n",
    "p=1\n",
    "while(m>=1):\n",
    "    o=1\n",
    "    while(o<=p):\n",
    "        print(\" \",end=\"\")\n",
    "        o=o+1\n",
    "    g=1\n",
    "    while(g<=m):\n",
    "        print(g,end=\"\")\n",
    "        g=g+1\n",
    "    print()\n",
    "    m=m-2\n",
    "    p=p+1"
   ]
  },
  {
   "cell_type": "code",
   "execution_count": 79,
   "id": "1d2cd27f",
   "metadata": {},
   "outputs": [
    {
     "name": "stdout",
     "output_type": "stream",
     "text": [
      "    1\n",
      "   232\n",
      "  34543\n",
      " 4567654\n",
      "567898765\n",
      " 4321234\n",
      "  32123\n",
      "   212\n",
      "    1\n"
     ]
    }
   ],
   "source": [
    "\"\"\" (Z4)\n",
    "    1\n",
    "   232\n",
    "  34543\n",
    " 4567654\n",
    "567898765\n",
    " 4567654\n",
    "  34543\n",
    "   232\n",
    "    1    \"\"\"\n",
    "i=1\n",
    "while(i<=5):\n",
    "    j=1\n",
    "    while(j<=5-i):\n",
    "        print(\" \",end=\"\")\n",
    "        j=j+1\n",
    "    l=1\n",
    "    b=i\n",
    "    while(l<=i):\n",
    "        print(b,end=\"\")\n",
    "        b=b+1\n",
    "        l=l+1\n",
    "    a=i-1\n",
    "    while(a>=1):\n",
    "        print((a+i)-1,end=\"\")\n",
    "        a=a-1\n",
    "    print()\n",
    "    i=i+1\n",
    "m=4\n",
    "p=1\n",
    "while(m>=1):\n",
    "    j=1\n",
    "    while(j<=p):\n",
    "        print(\" \",end=\"\")\n",
    "        j=j+1\n",
    "    o=1\n",
    "    b=m\n",
    "    while(o<=m):\n",
    "        print(b,end=\"\")\n",
    "        b=b-1\n",
    "        o=o+1\n",
    "    c=m-1\n",
    "    while(c>=1):\n",
    "        print((m-c)+1,end=\"\")\n",
    "        c=c-1\n",
    "    print()\n",
    "    m=m-1\n",
    "    p=p+1\n",
    "    "
   ]
  },
  {
   "cell_type": "code",
   "execution_count": null,
   "id": "20e72530",
   "metadata": {},
   "outputs": [],
   "source": []
  }
 ],
 "metadata": {
  "kernelspec": {
   "display_name": "Python 3 (ipykernel)",
   "language": "python",
   "name": "python3"
  },
  "language_info": {
   "codemirror_mode": {
    "name": "ipython",
    "version": 3
   },
   "file_extension": ".py",
   "mimetype": "text/x-python",
   "name": "python",
   "nbconvert_exporter": "python",
   "pygments_lexer": "ipython3",
   "version": "3.10.4"
  }
 },
 "nbformat": 4,
 "nbformat_minor": 5
}
